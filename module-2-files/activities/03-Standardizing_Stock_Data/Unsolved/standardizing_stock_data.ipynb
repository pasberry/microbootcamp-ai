{
 "cells": [
  {
   "cell_type": "code",
   "execution_count": 1,
   "metadata": {
    "ExecuteTime": {
     "end_time": "2023-10-07T14:15:41.714236Z",
     "start_time": "2023-10-07T14:15:40.890764Z"
    }
   },
   "outputs": [],
   "source": [
    "# Import the required libraries and dependencies\n",
    "import pandas as pd\n",
    "from sklearn.cluster import KMeans\n",
    "from sklearn.preprocessing import StandardScaler"
   ]
  },
  {
   "cell_type": "markdown",
   "metadata": {},
   "source": [
    "### Step 1: Read in the `tsx-energy-2018.csv` file and create the DataFrame. Make sure to set the `Ticker` column as the DataFrame’s index. Then review the DataFrame."
   ]
  },
  {
   "cell_type": "code",
   "execution_count": 2,
   "metadata": {
    "ExecuteTime": {
     "end_time": "2023-10-07T14:15:46.012284Z",
     "start_time": "2023-10-07T14:15:45.431006Z"
    }
   },
   "outputs": [
    {
     "data": {
      "text/plain": "                               CompanyName  MeanOpen  MeanHigh  MeanLow  \\\nTicker                                                                    \nARX                     ARC Resources Ltd.     13.14     13.34    12.91   \nCCO                     Cameco Corporation     13.70     13.92    13.50   \nCNQ     Canadian Natural Resources Limited     41.97     42.46    41.46   \nCVE                    Cenovus Energy Inc.     11.96     12.18    11.75   \nCPG            Crescent Point Energy Corp.      8.53      8.67     8.36   \n\n        MeanClose  MeanVolume  AnnualReturn  AnnualVariance    EnergyType  \nTicker                                                                     \nARX         13.10  1479913.38       -0.7275          0.3590           Oil  \nCCO         13.70  1203788.22        0.2014          0.3693  Other Energy  \nCNQ         41.91  3218248.68       -0.3461          0.2947           Oil  \nCVE         11.95  4566143.56       -0.3219          0.4500           Oil  \nCPG          8.50  3919414.03       -1.0103          0.4597  Other Energy  ",
      "text/html": "<div>\n<style scoped>\n    .dataframe tbody tr th:only-of-type {\n        vertical-align: middle;\n    }\n\n    .dataframe tbody tr th {\n        vertical-align: top;\n    }\n\n    .dataframe thead th {\n        text-align: right;\n    }\n</style>\n<table border=\"1\" class=\"dataframe\">\n  <thead>\n    <tr style=\"text-align: right;\">\n      <th></th>\n      <th>CompanyName</th>\n      <th>MeanOpen</th>\n      <th>MeanHigh</th>\n      <th>MeanLow</th>\n      <th>MeanClose</th>\n      <th>MeanVolume</th>\n      <th>AnnualReturn</th>\n      <th>AnnualVariance</th>\n      <th>EnergyType</th>\n    </tr>\n    <tr>\n      <th>Ticker</th>\n      <th></th>\n      <th></th>\n      <th></th>\n      <th></th>\n      <th></th>\n      <th></th>\n      <th></th>\n      <th></th>\n      <th></th>\n    </tr>\n  </thead>\n  <tbody>\n    <tr>\n      <th>ARX</th>\n      <td>ARC Resources Ltd.</td>\n      <td>13.14</td>\n      <td>13.34</td>\n      <td>12.91</td>\n      <td>13.10</td>\n      <td>1479913.38</td>\n      <td>-0.7275</td>\n      <td>0.3590</td>\n      <td>Oil</td>\n    </tr>\n    <tr>\n      <th>CCO</th>\n      <td>Cameco Corporation</td>\n      <td>13.70</td>\n      <td>13.92</td>\n      <td>13.50</td>\n      <td>13.70</td>\n      <td>1203788.22</td>\n      <td>0.2014</td>\n      <td>0.3693</td>\n      <td>Other Energy</td>\n    </tr>\n    <tr>\n      <th>CNQ</th>\n      <td>Canadian Natural Resources Limited</td>\n      <td>41.97</td>\n      <td>42.46</td>\n      <td>41.46</td>\n      <td>41.91</td>\n      <td>3218248.68</td>\n      <td>-0.3461</td>\n      <td>0.2947</td>\n      <td>Oil</td>\n    </tr>\n    <tr>\n      <th>CVE</th>\n      <td>Cenovus Energy Inc.</td>\n      <td>11.96</td>\n      <td>12.18</td>\n      <td>11.75</td>\n      <td>11.95</td>\n      <td>4566143.56</td>\n      <td>-0.3219</td>\n      <td>0.4500</td>\n      <td>Oil</td>\n    </tr>\n    <tr>\n      <th>CPG</th>\n      <td>Crescent Point Energy Corp.</td>\n      <td>8.53</td>\n      <td>8.67</td>\n      <td>8.36</td>\n      <td>8.50</td>\n      <td>3919414.03</td>\n      <td>-1.0103</td>\n      <td>0.4597</td>\n      <td>Other Energy</td>\n    </tr>\n  </tbody>\n</table>\n</div>"
     },
     "execution_count": 2,
     "metadata": {},
     "output_type": "execute_result"
    }
   ],
   "source": [
    "# Read the CSV file into a Pandas DataFrame\n",
    "# Set the index using the Ticker column\n",
    "df_stocks = pd.read_csv(\"https://static.bc-edx.com/mbc/ai/m2/datasets/tsx-energy-2018.csv\", index_col=\"Ticker\")\n",
    "\n",
    "# Review the DataFrame\n",
    "df_stocks.head()"
   ]
  },
  {
   "cell_type": "markdown",
   "metadata": {},
   "source": [
    "### Step 2: To prepare the data, use the `StandardScaler` module and the `fit_transform` function to scale all the columns containing numerical values. Review a five row sample of the scaled data using bracket notation ([0:5])."
   ]
  },
  {
   "cell_type": "code",
   "execution_count": 5,
   "metadata": {
    "ExecuteTime": {
     "end_time": "2023-10-07T14:20:47.557266Z",
     "start_time": "2023-10-07T14:20:47.554568Z"
    }
   },
   "outputs": [
    {
     "data": {
      "text/plain": "   MeanOpen  MeanHigh   MeanLow  MeanClose  MeanVolume  AnnualReturn  \\\n0 -0.916832 -0.917217 -0.918045  -0.918135   -0.152786     -1.332445   \n1 -0.880152 -0.879472 -0.879062  -0.878786   -0.379117      1.695742   \n2  0.971524  0.977848  0.968315   0.971255    1.272074     -0.089092   \n3 -0.994122 -0.992707 -0.994689  -0.993553    2.376902     -0.010201   \n4 -1.218785 -1.221130 -1.218673  -1.219807    1.846798     -2.254365   \n\n   AnnualVariance  \n0        0.460854  \n1        0.559411  \n2       -0.154415  \n3        1.331607  \n4        1.424424  ",
      "text/html": "<div>\n<style scoped>\n    .dataframe tbody tr th:only-of-type {\n        vertical-align: middle;\n    }\n\n    .dataframe tbody tr th {\n        vertical-align: top;\n    }\n\n    .dataframe thead th {\n        text-align: right;\n    }\n</style>\n<table border=\"1\" class=\"dataframe\">\n  <thead>\n    <tr style=\"text-align: right;\">\n      <th></th>\n      <th>MeanOpen</th>\n      <th>MeanHigh</th>\n      <th>MeanLow</th>\n      <th>MeanClose</th>\n      <th>MeanVolume</th>\n      <th>AnnualReturn</th>\n      <th>AnnualVariance</th>\n    </tr>\n  </thead>\n  <tbody>\n    <tr>\n      <th>0</th>\n      <td>-0.916832</td>\n      <td>-0.917217</td>\n      <td>-0.918045</td>\n      <td>-0.918135</td>\n      <td>-0.152786</td>\n      <td>-1.332445</td>\n      <td>0.460854</td>\n    </tr>\n    <tr>\n      <th>1</th>\n      <td>-0.880152</td>\n      <td>-0.879472</td>\n      <td>-0.879062</td>\n      <td>-0.878786</td>\n      <td>-0.379117</td>\n      <td>1.695742</td>\n      <td>0.559411</td>\n    </tr>\n    <tr>\n      <th>2</th>\n      <td>0.971524</td>\n      <td>0.977848</td>\n      <td>0.968315</td>\n      <td>0.971255</td>\n      <td>1.272074</td>\n      <td>-0.089092</td>\n      <td>-0.154415</td>\n    </tr>\n    <tr>\n      <th>3</th>\n      <td>-0.994122</td>\n      <td>-0.992707</td>\n      <td>-0.994689</td>\n      <td>-0.993553</td>\n      <td>2.376902</td>\n      <td>-0.010201</td>\n      <td>1.331607</td>\n    </tr>\n    <tr>\n      <th>4</th>\n      <td>-1.218785</td>\n      <td>-1.221130</td>\n      <td>-1.218673</td>\n      <td>-1.219807</td>\n      <td>1.846798</td>\n      <td>-2.254365</td>\n      <td>1.424424</td>\n    </tr>\n  </tbody>\n</table>\n</div>"
     },
     "execution_count": 5,
     "metadata": {},
     "output_type": "execute_result"
    }
   ],
   "source": [
    "# Use the StandardScaler module and fit_transform function to \n",
    "# scale all columns with numerical values\n",
    "stocks_standardized = StandardScaler().fit_transform(df_stocks[[\"MeanOpen\", \"MeanHigh\", \"MeanLow\", \"MeanClose\", \"MeanVolume\", \"AnnualReturn\", \"AnnualVariance\"]])\n",
    "\n",
    "# Creating a DataFrame with with the scaled data\n",
    "df_stocks_transformed = pd.DataFrame(stocks_standardized, columns=[\"MeanOpen\", \"MeanHigh\", \"MeanLow\", \"MeanClose\", \"MeanVolume\", \"AnnualReturn\", \"AnnualVariance\"])\n",
    "\n",
    "# Diplay the first five rows of the scaled data\n",
    "df_stocks_transformed.head(5)"
   ]
  },
  {
   "cell_type": "markdown",
   "metadata": {},
   "source": [
    "### Step 3:  Create a new DataFrame called `df_stocks_scaled` that contains the scaled data. Make sure to do the following: \n",
    "\n",
    "- Use the same labels that were referenced in the `StandardScaler` for the column names. \n",
    "    \n",
    "- Add a column to the DataFrame that consists of the tickers from the original DataFrame. (Hint: This column was the index). \n",
    "\n",
    "- Set the new column of tickers as the index for the new DataFrame. \n",
    "\n",
    "- Review the resulting DataFrame. \n"
   ]
  },
  {
   "cell_type": "code",
   "execution_count": 16,
   "outputs": [
    {
     "data": {
      "text/plain": "   Ticker\n0     ARX\n1     CCO\n2     CNQ\n3     CVE\n4     CPG\n5     ENB\n6     ERF\n7     GEI\n8     HSE\n9     IMO\n10    IPL\n11    KEY\n12    MEG\n13    MTL\n14    PXT\n15    PKI\n16    PPL\n17    PSK\n18    VII\n19     SU\n20    TRP\n21    TOU\n22    VET\n23    WCP",
      "text/html": "<div>\n<style scoped>\n    .dataframe tbody tr th:only-of-type {\n        vertical-align: middle;\n    }\n\n    .dataframe tbody tr th {\n        vertical-align: top;\n    }\n\n    .dataframe thead th {\n        text-align: right;\n    }\n</style>\n<table border=\"1\" class=\"dataframe\">\n  <thead>\n    <tr style=\"text-align: right;\">\n      <th></th>\n      <th>Ticker</th>\n    </tr>\n  </thead>\n  <tbody>\n    <tr>\n      <th>0</th>\n      <td>ARX</td>\n    </tr>\n    <tr>\n      <th>1</th>\n      <td>CCO</td>\n    </tr>\n    <tr>\n      <th>2</th>\n      <td>CNQ</td>\n    </tr>\n    <tr>\n      <th>3</th>\n      <td>CVE</td>\n    </tr>\n    <tr>\n      <th>4</th>\n      <td>CPG</td>\n    </tr>\n    <tr>\n      <th>5</th>\n      <td>ENB</td>\n    </tr>\n    <tr>\n      <th>6</th>\n      <td>ERF</td>\n    </tr>\n    <tr>\n      <th>7</th>\n      <td>GEI</td>\n    </tr>\n    <tr>\n      <th>8</th>\n      <td>HSE</td>\n    </tr>\n    <tr>\n      <th>9</th>\n      <td>IMO</td>\n    </tr>\n    <tr>\n      <th>10</th>\n      <td>IPL</td>\n    </tr>\n    <tr>\n      <th>11</th>\n      <td>KEY</td>\n    </tr>\n    <tr>\n      <th>12</th>\n      <td>MEG</td>\n    </tr>\n    <tr>\n      <th>13</th>\n      <td>MTL</td>\n    </tr>\n    <tr>\n      <th>14</th>\n      <td>PXT</td>\n    </tr>\n    <tr>\n      <th>15</th>\n      <td>PKI</td>\n    </tr>\n    <tr>\n      <th>16</th>\n      <td>PPL</td>\n    </tr>\n    <tr>\n      <th>17</th>\n      <td>PSK</td>\n    </tr>\n    <tr>\n      <th>18</th>\n      <td>VII</td>\n    </tr>\n    <tr>\n      <th>19</th>\n      <td>SU</td>\n    </tr>\n    <tr>\n      <th>20</th>\n      <td>TRP</td>\n    </tr>\n    <tr>\n      <th>21</th>\n      <td>TOU</td>\n    </tr>\n    <tr>\n      <th>22</th>\n      <td>VET</td>\n    </tr>\n    <tr>\n      <th>23</th>\n      <td>WCP</td>\n    </tr>\n  </tbody>\n</table>\n</div>"
     },
     "execution_count": 16,
     "metadata": {},
     "output_type": "execute_result"
    }
   ],
   "source": [
    "pd.DataFrame(df_stocks.index)"
   ],
   "metadata": {
    "collapsed": false,
    "ExecuteTime": {
     "end_time": "2023-10-07T15:00:32.518479Z",
     "start_time": "2023-10-07T15:00:32.514391Z"
    }
   }
  },
  {
   "cell_type": "code",
   "execution_count": 19,
   "metadata": {
    "ExecuteTime": {
     "end_time": "2023-10-07T15:03:07.243795Z",
     "start_time": "2023-10-07T15:03:07.234586Z"
    }
   },
   "outputs": [
    {
     "data": {
      "text/plain": "        MeanOpen  MeanHigh   MeanLow  MeanClose  MeanVolume  AnnualReturn  \\\nTicker                                                                      \nARX    -0.916832 -0.917217 -0.918045  -0.918135   -0.152786     -1.332445   \nCCO    -0.880152 -0.879472 -0.879062  -0.878786   -0.379117      1.695742   \nCNQ     0.971524  0.977848  0.968315   0.971255    1.272074     -0.089092   \nCVE    -0.994122 -0.992707 -0.994689  -0.993553    2.376902     -0.010201   \nCPG    -1.218785 -1.221130 -1.218673  -1.219807    1.846798     -2.254365   \n\n        AnnualVariance  \nTicker                  \nARX           0.460854  \nCCO           0.559411  \nCNQ          -0.154415  \nCVE           1.331607  \nCPG           1.424424  ",
      "text/html": "<div>\n<style scoped>\n    .dataframe tbody tr th:only-of-type {\n        vertical-align: middle;\n    }\n\n    .dataframe tbody tr th {\n        vertical-align: top;\n    }\n\n    .dataframe thead th {\n        text-align: right;\n    }\n</style>\n<table border=\"1\" class=\"dataframe\">\n  <thead>\n    <tr style=\"text-align: right;\">\n      <th></th>\n      <th>MeanOpen</th>\n      <th>MeanHigh</th>\n      <th>MeanLow</th>\n      <th>MeanClose</th>\n      <th>MeanVolume</th>\n      <th>AnnualReturn</th>\n      <th>AnnualVariance</th>\n    </tr>\n    <tr>\n      <th>Ticker</th>\n      <th></th>\n      <th></th>\n      <th></th>\n      <th></th>\n      <th></th>\n      <th></th>\n      <th></th>\n    </tr>\n  </thead>\n  <tbody>\n    <tr>\n      <th>ARX</th>\n      <td>-0.916832</td>\n      <td>-0.917217</td>\n      <td>-0.918045</td>\n      <td>-0.918135</td>\n      <td>-0.152786</td>\n      <td>-1.332445</td>\n      <td>0.460854</td>\n    </tr>\n    <tr>\n      <th>CCO</th>\n      <td>-0.880152</td>\n      <td>-0.879472</td>\n      <td>-0.879062</td>\n      <td>-0.878786</td>\n      <td>-0.379117</td>\n      <td>1.695742</td>\n      <td>0.559411</td>\n    </tr>\n    <tr>\n      <th>CNQ</th>\n      <td>0.971524</td>\n      <td>0.977848</td>\n      <td>0.968315</td>\n      <td>0.971255</td>\n      <td>1.272074</td>\n      <td>-0.089092</td>\n      <td>-0.154415</td>\n    </tr>\n    <tr>\n      <th>CVE</th>\n      <td>-0.994122</td>\n      <td>-0.992707</td>\n      <td>-0.994689</td>\n      <td>-0.993553</td>\n      <td>2.376902</td>\n      <td>-0.010201</td>\n      <td>1.331607</td>\n    </tr>\n    <tr>\n      <th>CPG</th>\n      <td>-1.218785</td>\n      <td>-1.221130</td>\n      <td>-1.218673</td>\n      <td>-1.219807</td>\n      <td>1.846798</td>\n      <td>-2.254365</td>\n      <td>1.424424</td>\n    </tr>\n  </tbody>\n</table>\n</div>"
     },
     "execution_count": 19,
     "metadata": {},
     "output_type": "execute_result"
    }
   ],
   "source": [
    "# Create a DataFrame called with the scaled data\n",
    "# The column names should match those referenced in the StandardScaler step\n",
    "\n",
    "\n",
    "# Create a Ticker column in the df_stocks_scaled DataFrame\n",
    "# using the index of the original df_stocks DataFrame\n",
    "df_stocks_scaled = pd.concat([pd.DataFrame(df_stocks.index), df_stocks_transformed], axis=1)\n",
    "\n",
    "# Set the newly created Ticker column as index of the df_stocks_scaled DataFrame\n",
    "df_stocks_scaled = df_stocks_scaled.set_index('Ticker')\n",
    "\n",
    "# Review the DataFrame\n",
    "df_stocks_scaled.head()"
   ]
  },
  {
   "cell_type": "code",
   "execution_count": 20,
   "outputs": [
    {
     "data": {
      "text/plain": "Index(['ARX', 'CCO', 'CNQ', 'CVE', 'CPG', 'ENB', 'ERF', 'GEI', 'HSE', 'IMO',\n       'IPL', 'KEY', 'MEG', 'MTL', 'PXT', 'PKI', 'PPL', 'PSK', 'VII', 'SU',\n       'TRP', 'TOU', 'VET', 'WCP'],\n      dtype='object', name='Ticker')"
     },
     "execution_count": 20,
     "metadata": {},
     "output_type": "execute_result"
    }
   ],
   "source": [
    "df_stocks_scaled.index"
   ],
   "metadata": {
    "collapsed": false,
    "ExecuteTime": {
     "end_time": "2023-10-07T15:03:11.221915Z",
     "start_time": "2023-10-07T15:03:11.214429Z"
    }
   }
  },
  {
   "cell_type": "markdown",
   "metadata": {},
   "source": [
    "### Step 4: Encode the “EnergyType” column using `pd.get_dummies`, and save the result in a separate DataFrame called `df_oil_dummies`. Note that, because the company name isn’t relevant for clustering, you don’t need to encode the “CompanyName” column."
   ]
  },
  {
   "cell_type": "code",
   "execution_count": 21,
   "metadata": {
    "ExecuteTime": {
     "end_time": "2023-10-07T15:06:37.828097Z",
     "start_time": "2023-10-07T15:06:37.820603Z"
    }
   },
   "outputs": [
    {
     "data": {
      "text/plain": "        EnergyType_Oil  EnergyType_Other Energy\nTicker                                         \nARX                  1                        0\nCCO                  0                        1\nCNQ                  1                        0\nCVE                  1                        0\nCPG                  0                        1\nENB                  0                        1\nERF                  1                        0\nGEI                  0                        1\nHSE                  0                        1\nIMO                  1                        0\nIPL                  0                        1\nKEY                  0                        1\nMEG                  0                        1\nMTL                  0                        1\nPXT                  1                        0\nPKI                  0                        1\nPPL                  1                        0\nPSK                  1                        0\nVII                  1                        0\nSU                   1                        0\nTRP                  0                        1\nTOU                  1                        0\nVET                  1                        0\nWCP                  1                        0",
      "text/html": "<div>\n<style scoped>\n    .dataframe tbody tr th:only-of-type {\n        vertical-align: middle;\n    }\n\n    .dataframe tbody tr th {\n        vertical-align: top;\n    }\n\n    .dataframe thead th {\n        text-align: right;\n    }\n</style>\n<table border=\"1\" class=\"dataframe\">\n  <thead>\n    <tr style=\"text-align: right;\">\n      <th></th>\n      <th>EnergyType_Oil</th>\n      <th>EnergyType_Other Energy</th>\n    </tr>\n    <tr>\n      <th>Ticker</th>\n      <th></th>\n      <th></th>\n    </tr>\n  </thead>\n  <tbody>\n    <tr>\n      <th>ARX</th>\n      <td>1</td>\n      <td>0</td>\n    </tr>\n    <tr>\n      <th>CCO</th>\n      <td>0</td>\n      <td>1</td>\n    </tr>\n    <tr>\n      <th>CNQ</th>\n      <td>1</td>\n      <td>0</td>\n    </tr>\n    <tr>\n      <th>CVE</th>\n      <td>1</td>\n      <td>0</td>\n    </tr>\n    <tr>\n      <th>CPG</th>\n      <td>0</td>\n      <td>1</td>\n    </tr>\n    <tr>\n      <th>ENB</th>\n      <td>0</td>\n      <td>1</td>\n    </tr>\n    <tr>\n      <th>ERF</th>\n      <td>1</td>\n      <td>0</td>\n    </tr>\n    <tr>\n      <th>GEI</th>\n      <td>0</td>\n      <td>1</td>\n    </tr>\n    <tr>\n      <th>HSE</th>\n      <td>0</td>\n      <td>1</td>\n    </tr>\n    <tr>\n      <th>IMO</th>\n      <td>1</td>\n      <td>0</td>\n    </tr>\n    <tr>\n      <th>IPL</th>\n      <td>0</td>\n      <td>1</td>\n    </tr>\n    <tr>\n      <th>KEY</th>\n      <td>0</td>\n      <td>1</td>\n    </tr>\n    <tr>\n      <th>MEG</th>\n      <td>0</td>\n      <td>1</td>\n    </tr>\n    <tr>\n      <th>MTL</th>\n      <td>0</td>\n      <td>1</td>\n    </tr>\n    <tr>\n      <th>PXT</th>\n      <td>1</td>\n      <td>0</td>\n    </tr>\n    <tr>\n      <th>PKI</th>\n      <td>0</td>\n      <td>1</td>\n    </tr>\n    <tr>\n      <th>PPL</th>\n      <td>1</td>\n      <td>0</td>\n    </tr>\n    <tr>\n      <th>PSK</th>\n      <td>1</td>\n      <td>0</td>\n    </tr>\n    <tr>\n      <th>VII</th>\n      <td>1</td>\n      <td>0</td>\n    </tr>\n    <tr>\n      <th>SU</th>\n      <td>1</td>\n      <td>0</td>\n    </tr>\n    <tr>\n      <th>TRP</th>\n      <td>0</td>\n      <td>1</td>\n    </tr>\n    <tr>\n      <th>TOU</th>\n      <td>1</td>\n      <td>0</td>\n    </tr>\n    <tr>\n      <th>VET</th>\n      <td>1</td>\n      <td>0</td>\n    </tr>\n    <tr>\n      <th>WCP</th>\n      <td>1</td>\n      <td>0</td>\n    </tr>\n  </tbody>\n</table>\n</div>"
     },
     "execution_count": 21,
     "metadata": {},
     "output_type": "execute_result"
    }
   ],
   "source": [
    "# Encode (convert to dummy variables) the EnergyType column\n",
    "df_oil_dummies = pd.get_dummies(pd.DataFrame(df_stocks['EnergyType']))\n",
    "\n",
    "# Review the DataFrame\n",
    "df_oil_dummies"
   ]
  },
  {
   "cell_type": "markdown",
   "metadata": {},
   "source": [
    "### Step 5: Using the `pd.concat` function, concatenate the `df_stocks_scaled` DataFrame with the `df_oil_dummies` DataFrame, along an axis value of 1 (`axis=1` tells Pandas to join the data horizontally by columns). Review the concatenated DataFrame. \n"
   ]
  },
  {
   "cell_type": "code",
   "execution_count": 22,
   "metadata": {
    "ExecuteTime": {
     "end_time": "2023-10-07T15:09:43.870575Z",
     "start_time": "2023-10-07T15:09:43.868251Z"
    }
   },
   "outputs": [
    {
     "data": {
      "text/plain": "        MeanOpen  MeanHigh   MeanLow  MeanClose  MeanVolume  AnnualReturn  \\\nTicker                                                                      \nARX    -0.916832 -0.917217 -0.918045  -0.918135   -0.152786     -1.332445   \nCCO    -0.880152 -0.879472 -0.879062  -0.878786   -0.379117      1.695742   \nCNQ     0.971524  0.977848  0.968315   0.971255    1.272074     -0.089092   \nCVE    -0.994122 -0.992707 -0.994689  -0.993553    2.376902     -0.010201   \nCPG    -1.218785 -1.221130 -1.218673  -1.219807    1.846798     -2.254365   \nENB     1.067154  1.064401  1.063459   1.063725    1.720226      0.389472   \nERF    -0.817272 -0.815696 -0.817615  -0.817140   -0.453229      0.206587   \nGEI    -0.563789 -0.566448 -0.559934  -0.561374   -1.073401      0.950187   \nHSE    -0.540209 -0.539766 -0.539452  -0.539732   -0.281932      0.094118   \nIMO     0.826770  0.829470  0.829563   0.828289   -0.483906      0.571378   \nIPL    -0.246115 -0.252773 -0.243448  -0.247241   -0.432973     -0.034325   \nKEY     0.464557  0.461781  0.464184   0.464314   -0.920633     -0.237095   \nMEG    -1.267255 -1.267335 -1.268227  -1.267026    0.387923      1.683028   \nMTL    -0.806137 -0.809839 -0.803079  -0.805991   -1.265295     -0.029109   \nPXT    -0.460954 -0.455816 -0.465451  -0.461035   -0.845754      0.304060   \nPKI     0.478966  0.483257  0.482024   0.483988   -1.034973      1.644887   \nPPL     1.078289  1.074163  1.082620   1.079464   -0.337238      0.593546   \nPSK    -0.122976 -0.120665 -0.123858  -0.123292   -0.938063     -1.240188   \nVII    -0.787142 -0.783807 -0.791847  -0.788940   -0.433758     -1.050458   \nSU      1.356662  1.360505  1.359462   1.358183    1.384344      0.303734   \nTRP     1.838085  1.832970  1.839146   1.837581    0.340895      0.230711   \nTOU     1.838085  1.832970  1.839146   1.837581    0.340895      0.230711   \nVET     0.958424  0.965483  0.949815   0.955516   -0.775384     -0.805308   \nWCP    -1.256775 -1.260177 -1.254352  -1.257844    0.138385     -1.815573   \n\n        AnnualVariance  EnergyType_Oil  EnergyType_Other Energy  \nTicker                                                           \nARX           0.460854               1                        0  \nCCO           0.559411               0                        1  \nCNQ          -0.154415               1                        0  \nCVE           1.331607               1                        0  \nCPG           1.424424               0                        1  \nENB          -0.736194               0                        1  \nERF           0.533576               1                        0  \nGEI          -0.552474               0                        1  \nHSE           0.006339               0                        1  \nIMO          -0.855803               1                        0  \nIPL          -1.025169               0                        1  \nKEY          -0.790735               0                        1  \nMEG           2.769786               0                        1  \nMTL          -0.783080               0                        1  \nPXT           0.929721               1                        0  \nPKI          -0.508458               0                        1  \nPPL          -1.177312               1                        0  \nPSK          -0.426167               1                        0  \nVII           1.191904               1                        0  \nSU           -0.688350               1                        0  \nTRP          -1.106503               0                        1  \nTOU          -1.106503               1                        0  \nVET          -0.168768               1                        0  \nWCP           0.872309               1                        0  ",
      "text/html": "<div>\n<style scoped>\n    .dataframe tbody tr th:only-of-type {\n        vertical-align: middle;\n    }\n\n    .dataframe tbody tr th {\n        vertical-align: top;\n    }\n\n    .dataframe thead th {\n        text-align: right;\n    }\n</style>\n<table border=\"1\" class=\"dataframe\">\n  <thead>\n    <tr style=\"text-align: right;\">\n      <th></th>\n      <th>MeanOpen</th>\n      <th>MeanHigh</th>\n      <th>MeanLow</th>\n      <th>MeanClose</th>\n      <th>MeanVolume</th>\n      <th>AnnualReturn</th>\n      <th>AnnualVariance</th>\n      <th>EnergyType_Oil</th>\n      <th>EnergyType_Other Energy</th>\n    </tr>\n    <tr>\n      <th>Ticker</th>\n      <th></th>\n      <th></th>\n      <th></th>\n      <th></th>\n      <th></th>\n      <th></th>\n      <th></th>\n      <th></th>\n      <th></th>\n    </tr>\n  </thead>\n  <tbody>\n    <tr>\n      <th>ARX</th>\n      <td>-0.916832</td>\n      <td>-0.917217</td>\n      <td>-0.918045</td>\n      <td>-0.918135</td>\n      <td>-0.152786</td>\n      <td>-1.332445</td>\n      <td>0.460854</td>\n      <td>1</td>\n      <td>0</td>\n    </tr>\n    <tr>\n      <th>CCO</th>\n      <td>-0.880152</td>\n      <td>-0.879472</td>\n      <td>-0.879062</td>\n      <td>-0.878786</td>\n      <td>-0.379117</td>\n      <td>1.695742</td>\n      <td>0.559411</td>\n      <td>0</td>\n      <td>1</td>\n    </tr>\n    <tr>\n      <th>CNQ</th>\n      <td>0.971524</td>\n      <td>0.977848</td>\n      <td>0.968315</td>\n      <td>0.971255</td>\n      <td>1.272074</td>\n      <td>-0.089092</td>\n      <td>-0.154415</td>\n      <td>1</td>\n      <td>0</td>\n    </tr>\n    <tr>\n      <th>CVE</th>\n      <td>-0.994122</td>\n      <td>-0.992707</td>\n      <td>-0.994689</td>\n      <td>-0.993553</td>\n      <td>2.376902</td>\n      <td>-0.010201</td>\n      <td>1.331607</td>\n      <td>1</td>\n      <td>0</td>\n    </tr>\n    <tr>\n      <th>CPG</th>\n      <td>-1.218785</td>\n      <td>-1.221130</td>\n      <td>-1.218673</td>\n      <td>-1.219807</td>\n      <td>1.846798</td>\n      <td>-2.254365</td>\n      <td>1.424424</td>\n      <td>0</td>\n      <td>1</td>\n    </tr>\n    <tr>\n      <th>ENB</th>\n      <td>1.067154</td>\n      <td>1.064401</td>\n      <td>1.063459</td>\n      <td>1.063725</td>\n      <td>1.720226</td>\n      <td>0.389472</td>\n      <td>-0.736194</td>\n      <td>0</td>\n      <td>1</td>\n    </tr>\n    <tr>\n      <th>ERF</th>\n      <td>-0.817272</td>\n      <td>-0.815696</td>\n      <td>-0.817615</td>\n      <td>-0.817140</td>\n      <td>-0.453229</td>\n      <td>0.206587</td>\n      <td>0.533576</td>\n      <td>1</td>\n      <td>0</td>\n    </tr>\n    <tr>\n      <th>GEI</th>\n      <td>-0.563789</td>\n      <td>-0.566448</td>\n      <td>-0.559934</td>\n      <td>-0.561374</td>\n      <td>-1.073401</td>\n      <td>0.950187</td>\n      <td>-0.552474</td>\n      <td>0</td>\n      <td>1</td>\n    </tr>\n    <tr>\n      <th>HSE</th>\n      <td>-0.540209</td>\n      <td>-0.539766</td>\n      <td>-0.539452</td>\n      <td>-0.539732</td>\n      <td>-0.281932</td>\n      <td>0.094118</td>\n      <td>0.006339</td>\n      <td>0</td>\n      <td>1</td>\n    </tr>\n    <tr>\n      <th>IMO</th>\n      <td>0.826770</td>\n      <td>0.829470</td>\n      <td>0.829563</td>\n      <td>0.828289</td>\n      <td>-0.483906</td>\n      <td>0.571378</td>\n      <td>-0.855803</td>\n      <td>1</td>\n      <td>0</td>\n    </tr>\n    <tr>\n      <th>IPL</th>\n      <td>-0.246115</td>\n      <td>-0.252773</td>\n      <td>-0.243448</td>\n      <td>-0.247241</td>\n      <td>-0.432973</td>\n      <td>-0.034325</td>\n      <td>-1.025169</td>\n      <td>0</td>\n      <td>1</td>\n    </tr>\n    <tr>\n      <th>KEY</th>\n      <td>0.464557</td>\n      <td>0.461781</td>\n      <td>0.464184</td>\n      <td>0.464314</td>\n      <td>-0.920633</td>\n      <td>-0.237095</td>\n      <td>-0.790735</td>\n      <td>0</td>\n      <td>1</td>\n    </tr>\n    <tr>\n      <th>MEG</th>\n      <td>-1.267255</td>\n      <td>-1.267335</td>\n      <td>-1.268227</td>\n      <td>-1.267026</td>\n      <td>0.387923</td>\n      <td>1.683028</td>\n      <td>2.769786</td>\n      <td>0</td>\n      <td>1</td>\n    </tr>\n    <tr>\n      <th>MTL</th>\n      <td>-0.806137</td>\n      <td>-0.809839</td>\n      <td>-0.803079</td>\n      <td>-0.805991</td>\n      <td>-1.265295</td>\n      <td>-0.029109</td>\n      <td>-0.783080</td>\n      <td>0</td>\n      <td>1</td>\n    </tr>\n    <tr>\n      <th>PXT</th>\n      <td>-0.460954</td>\n      <td>-0.455816</td>\n      <td>-0.465451</td>\n      <td>-0.461035</td>\n      <td>-0.845754</td>\n      <td>0.304060</td>\n      <td>0.929721</td>\n      <td>1</td>\n      <td>0</td>\n    </tr>\n    <tr>\n      <th>PKI</th>\n      <td>0.478966</td>\n      <td>0.483257</td>\n      <td>0.482024</td>\n      <td>0.483988</td>\n      <td>-1.034973</td>\n      <td>1.644887</td>\n      <td>-0.508458</td>\n      <td>0</td>\n      <td>1</td>\n    </tr>\n    <tr>\n      <th>PPL</th>\n      <td>1.078289</td>\n      <td>1.074163</td>\n      <td>1.082620</td>\n      <td>1.079464</td>\n      <td>-0.337238</td>\n      <td>0.593546</td>\n      <td>-1.177312</td>\n      <td>1</td>\n      <td>0</td>\n    </tr>\n    <tr>\n      <th>PSK</th>\n      <td>-0.122976</td>\n      <td>-0.120665</td>\n      <td>-0.123858</td>\n      <td>-0.123292</td>\n      <td>-0.938063</td>\n      <td>-1.240188</td>\n      <td>-0.426167</td>\n      <td>1</td>\n      <td>0</td>\n    </tr>\n    <tr>\n      <th>VII</th>\n      <td>-0.787142</td>\n      <td>-0.783807</td>\n      <td>-0.791847</td>\n      <td>-0.788940</td>\n      <td>-0.433758</td>\n      <td>-1.050458</td>\n      <td>1.191904</td>\n      <td>1</td>\n      <td>0</td>\n    </tr>\n    <tr>\n      <th>SU</th>\n      <td>1.356662</td>\n      <td>1.360505</td>\n      <td>1.359462</td>\n      <td>1.358183</td>\n      <td>1.384344</td>\n      <td>0.303734</td>\n      <td>-0.688350</td>\n      <td>1</td>\n      <td>0</td>\n    </tr>\n    <tr>\n      <th>TRP</th>\n      <td>1.838085</td>\n      <td>1.832970</td>\n      <td>1.839146</td>\n      <td>1.837581</td>\n      <td>0.340895</td>\n      <td>0.230711</td>\n      <td>-1.106503</td>\n      <td>0</td>\n      <td>1</td>\n    </tr>\n    <tr>\n      <th>TOU</th>\n      <td>1.838085</td>\n      <td>1.832970</td>\n      <td>1.839146</td>\n      <td>1.837581</td>\n      <td>0.340895</td>\n      <td>0.230711</td>\n      <td>-1.106503</td>\n      <td>1</td>\n      <td>0</td>\n    </tr>\n    <tr>\n      <th>VET</th>\n      <td>0.958424</td>\n      <td>0.965483</td>\n      <td>0.949815</td>\n      <td>0.955516</td>\n      <td>-0.775384</td>\n      <td>-0.805308</td>\n      <td>-0.168768</td>\n      <td>1</td>\n      <td>0</td>\n    </tr>\n    <tr>\n      <th>WCP</th>\n      <td>-1.256775</td>\n      <td>-1.260177</td>\n      <td>-1.254352</td>\n      <td>-1.257844</td>\n      <td>0.138385</td>\n      <td>-1.815573</td>\n      <td>0.872309</td>\n      <td>1</td>\n      <td>0</td>\n    </tr>\n  </tbody>\n</table>\n</div>"
     },
     "execution_count": 22,
     "metadata": {},
     "output_type": "execute_result"
    }
   ],
   "source": [
    "# Concatenate the `EnergyType` encoded dummies with the scaled data DataFrame\n",
    "df_stocks_scaled = pd.concat([df_stocks_scaled, df_oil_dummies], axis=1)\n",
    "\n",
    "# Display the sample data\n",
    "df_stocks_scaled"
   ]
  },
  {
   "cell_type": "markdown",
   "metadata": {},
   "source": [
    "### Step 6: Using the concatenated DataFrame, cluster the data by using the K-means algorithm and a k value of 3. Create a copy of the concatenated DataFrame, and add the resulting list of company segment values as a new column. "
   ]
  },
  {
   "cell_type": "code",
   "execution_count": 23,
   "metadata": {
    "ExecuteTime": {
     "end_time": "2023-10-07T15:49:52.740993Z",
     "start_time": "2023-10-07T15:49:52.738952Z"
    }
   },
   "outputs": [],
   "source": [
    "# Initialize the K-Means model with n_clusters=3\n",
    "model = KMeans(n_clusters=3, n_init='auto')"
   ]
  },
  {
   "cell_type": "code",
   "execution_count": 24,
   "metadata": {
    "ExecuteTime": {
     "end_time": "2023-10-07T15:49:56.340999Z",
     "start_time": "2023-10-07T15:49:56.228708Z"
    }
   },
   "outputs": [
    {
     "data": {
      "text/plain": "KMeans(n_clusters=3, n_init='auto')",
      "text/html": "<style>#sk-container-id-1 {color: black;background-color: white;}#sk-container-id-1 pre{padding: 0;}#sk-container-id-1 div.sk-toggleable {background-color: white;}#sk-container-id-1 label.sk-toggleable__label {cursor: pointer;display: block;width: 100%;margin-bottom: 0;padding: 0.3em;box-sizing: border-box;text-align: center;}#sk-container-id-1 label.sk-toggleable__label-arrow:before {content: \"▸\";float: left;margin-right: 0.25em;color: #696969;}#sk-container-id-1 label.sk-toggleable__label-arrow:hover:before {color: black;}#sk-container-id-1 div.sk-estimator:hover label.sk-toggleable__label-arrow:before {color: black;}#sk-container-id-1 div.sk-toggleable__content {max-height: 0;max-width: 0;overflow: hidden;text-align: left;background-color: #f0f8ff;}#sk-container-id-1 div.sk-toggleable__content pre {margin: 0.2em;color: black;border-radius: 0.25em;background-color: #f0f8ff;}#sk-container-id-1 input.sk-toggleable__control:checked~div.sk-toggleable__content {max-height: 200px;max-width: 100%;overflow: auto;}#sk-container-id-1 input.sk-toggleable__control:checked~label.sk-toggleable__label-arrow:before {content: \"▾\";}#sk-container-id-1 div.sk-estimator input.sk-toggleable__control:checked~label.sk-toggleable__label {background-color: #d4ebff;}#sk-container-id-1 div.sk-label input.sk-toggleable__control:checked~label.sk-toggleable__label {background-color: #d4ebff;}#sk-container-id-1 input.sk-hidden--visually {border: 0;clip: rect(1px 1px 1px 1px);clip: rect(1px, 1px, 1px, 1px);height: 1px;margin: -1px;overflow: hidden;padding: 0;position: absolute;width: 1px;}#sk-container-id-1 div.sk-estimator {font-family: monospace;background-color: #f0f8ff;border: 1px dotted black;border-radius: 0.25em;box-sizing: border-box;margin-bottom: 0.5em;}#sk-container-id-1 div.sk-estimator:hover {background-color: #d4ebff;}#sk-container-id-1 div.sk-parallel-item::after {content: \"\";width: 100%;border-bottom: 1px solid gray;flex-grow: 1;}#sk-container-id-1 div.sk-label:hover label.sk-toggleable__label {background-color: #d4ebff;}#sk-container-id-1 div.sk-serial::before {content: \"\";position: absolute;border-left: 1px solid gray;box-sizing: border-box;top: 0;bottom: 0;left: 50%;z-index: 0;}#sk-container-id-1 div.sk-serial {display: flex;flex-direction: column;align-items: center;background-color: white;padding-right: 0.2em;padding-left: 0.2em;position: relative;}#sk-container-id-1 div.sk-item {position: relative;z-index: 1;}#sk-container-id-1 div.sk-parallel {display: flex;align-items: stretch;justify-content: center;background-color: white;position: relative;}#sk-container-id-1 div.sk-item::before, #sk-container-id-1 div.sk-parallel-item::before {content: \"\";position: absolute;border-left: 1px solid gray;box-sizing: border-box;top: 0;bottom: 0;left: 50%;z-index: -1;}#sk-container-id-1 div.sk-parallel-item {display: flex;flex-direction: column;z-index: 1;position: relative;background-color: white;}#sk-container-id-1 div.sk-parallel-item:first-child::after {align-self: flex-end;width: 50%;}#sk-container-id-1 div.sk-parallel-item:last-child::after {align-self: flex-start;width: 50%;}#sk-container-id-1 div.sk-parallel-item:only-child::after {width: 0;}#sk-container-id-1 div.sk-dashed-wrapped {border: 1px dashed gray;margin: 0 0.4em 0.5em 0.4em;box-sizing: border-box;padding-bottom: 0.4em;background-color: white;}#sk-container-id-1 div.sk-label label {font-family: monospace;font-weight: bold;display: inline-block;line-height: 1.2em;}#sk-container-id-1 div.sk-label-container {text-align: center;}#sk-container-id-1 div.sk-container {/* jupyter's `normalize.less` sets `[hidden] { display: none; }` but bootstrap.min.css set `[hidden] { display: none !important; }` so we also need the `!important` here to be able to override the default hidden behavior on the sphinx rendered scikit-learn.org. See: https://github.com/scikit-learn/scikit-learn/issues/21755 */display: inline-block !important;position: relative;}#sk-container-id-1 div.sk-text-repr-fallback {display: none;}</style><div id=\"sk-container-id-1\" class=\"sk-top-container\"><div class=\"sk-text-repr-fallback\"><pre>KMeans(n_clusters=3, n_init=&#x27;auto&#x27;)</pre><b>In a Jupyter environment, please rerun this cell to show the HTML representation or trust the notebook. <br />On GitHub, the HTML representation is unable to render, please try loading this page with nbviewer.org.</b></div><div class=\"sk-container\" hidden><div class=\"sk-item\"><div class=\"sk-estimator sk-toggleable\"><input class=\"sk-toggleable__control sk-hidden--visually\" id=\"sk-estimator-id-1\" type=\"checkbox\" checked><label for=\"sk-estimator-id-1\" class=\"sk-toggleable__label sk-toggleable__label-arrow\">KMeans</label><div class=\"sk-toggleable__content\"><pre>KMeans(n_clusters=3, n_init=&#x27;auto&#x27;)</pre></div></div></div></div></div>"
     },
     "execution_count": 24,
     "metadata": {},
     "output_type": "execute_result"
    }
   ],
   "source": [
    "# Fit the model for the df_stocks_scaled DataFrame\n",
    "model.fit(df_stocks_scaled)"
   ]
  },
  {
   "cell_type": "code",
   "execution_count": 25,
   "metadata": {
    "ExecuteTime": {
     "end_time": "2023-10-07T15:51:44.301565Z",
     "start_time": "2023-10-07T15:51:44.295458Z"
    }
   },
   "outputs": [
    {
     "name": "stdout",
     "output_type": "stream",
     "text": [
      "[2 0 1 2 2 1 2 2 2 1 2 1 0 2 2 1 1 2 2 1 1 1 1 2]\n"
     ]
    }
   ],
   "source": [
    "# Predict the model segments (clusters)\n",
    "y_hat = model.predict(df_stocks_scaled)\n",
    "\n",
    "# View the stock segments\n",
    "print(y_hat)"
   ]
  },
  {
   "cell_type": "code",
   "execution_count": 27,
   "metadata": {
    "ExecuteTime": {
     "end_time": "2023-10-07T15:54:03.803913Z",
     "start_time": "2023-10-07T15:54:03.802318Z"
    }
   },
   "outputs": [],
   "source": [
    "# Create a copy of the concatenated DataFrame\n",
    "df_stocks_scaled_with_predictions = df_stocks_scaled.copy()"
   ]
  },
  {
   "cell_type": "code",
   "execution_count": 28,
   "metadata": {
    "ExecuteTime": {
     "end_time": "2023-10-07T15:54:04.723695Z",
     "start_time": "2023-10-07T15:54:04.715608Z"
    }
   },
   "outputs": [
    {
     "data": {
      "text/plain": "        MeanOpen  MeanHigh   MeanLow  MeanClose  MeanVolume  AnnualReturn  \\\nTicker                                                                      \nARX    -0.916832 -0.917217 -0.918045  -0.918135   -0.152786     -1.332445   \nCCO    -0.880152 -0.879472 -0.879062  -0.878786   -0.379117      1.695742   \nCNQ     0.971524  0.977848  0.968315   0.971255    1.272074     -0.089092   \nCVE    -0.994122 -0.992707 -0.994689  -0.993553    2.376902     -0.010201   \nCPG    -1.218785 -1.221130 -1.218673  -1.219807    1.846798     -2.254365   \nENB     1.067154  1.064401  1.063459   1.063725    1.720226      0.389472   \nERF    -0.817272 -0.815696 -0.817615  -0.817140   -0.453229      0.206587   \nGEI    -0.563789 -0.566448 -0.559934  -0.561374   -1.073401      0.950187   \nHSE    -0.540209 -0.539766 -0.539452  -0.539732   -0.281932      0.094118   \nIMO     0.826770  0.829470  0.829563   0.828289   -0.483906      0.571378   \nIPL    -0.246115 -0.252773 -0.243448  -0.247241   -0.432973     -0.034325   \nKEY     0.464557  0.461781  0.464184   0.464314   -0.920633     -0.237095   \nMEG    -1.267255 -1.267335 -1.268227  -1.267026    0.387923      1.683028   \nMTL    -0.806137 -0.809839 -0.803079  -0.805991   -1.265295     -0.029109   \nPXT    -0.460954 -0.455816 -0.465451  -0.461035   -0.845754      0.304060   \nPKI     0.478966  0.483257  0.482024   0.483988   -1.034973      1.644887   \nPPL     1.078289  1.074163  1.082620   1.079464   -0.337238      0.593546   \nPSK    -0.122976 -0.120665 -0.123858  -0.123292   -0.938063     -1.240188   \nVII    -0.787142 -0.783807 -0.791847  -0.788940   -0.433758     -1.050458   \nSU      1.356662  1.360505  1.359462   1.358183    1.384344      0.303734   \nTRP     1.838085  1.832970  1.839146   1.837581    0.340895      0.230711   \nTOU     1.838085  1.832970  1.839146   1.837581    0.340895      0.230711   \nVET     0.958424  0.965483  0.949815   0.955516   -0.775384     -0.805308   \nWCP    -1.256775 -1.260177 -1.254352  -1.257844    0.138385     -1.815573   \n\n        AnnualVariance  EnergyType_Oil  EnergyType_Other Energy  StockCluster  \nTicker                                                                         \nARX           0.460854               1                        0             2  \nCCO           0.559411               0                        1             0  \nCNQ          -0.154415               1                        0             1  \nCVE           1.331607               1                        0             2  \nCPG           1.424424               0                        1             2  \nENB          -0.736194               0                        1             1  \nERF           0.533576               1                        0             2  \nGEI          -0.552474               0                        1             2  \nHSE           0.006339               0                        1             2  \nIMO          -0.855803               1                        0             1  \nIPL          -1.025169               0                        1             2  \nKEY          -0.790735               0                        1             1  \nMEG           2.769786               0                        1             0  \nMTL          -0.783080               0                        1             2  \nPXT           0.929721               1                        0             2  \nPKI          -0.508458               0                        1             1  \nPPL          -1.177312               1                        0             1  \nPSK          -0.426167               1                        0             2  \nVII           1.191904               1                        0             2  \nSU           -0.688350               1                        0             1  \nTRP          -1.106503               0                        1             1  \nTOU          -1.106503               1                        0             1  \nVET          -0.168768               1                        0             1  \nWCP           0.872309               1                        0             2  ",
      "text/html": "<div>\n<style scoped>\n    .dataframe tbody tr th:only-of-type {\n        vertical-align: middle;\n    }\n\n    .dataframe tbody tr th {\n        vertical-align: top;\n    }\n\n    .dataframe thead th {\n        text-align: right;\n    }\n</style>\n<table border=\"1\" class=\"dataframe\">\n  <thead>\n    <tr style=\"text-align: right;\">\n      <th></th>\n      <th>MeanOpen</th>\n      <th>MeanHigh</th>\n      <th>MeanLow</th>\n      <th>MeanClose</th>\n      <th>MeanVolume</th>\n      <th>AnnualReturn</th>\n      <th>AnnualVariance</th>\n      <th>EnergyType_Oil</th>\n      <th>EnergyType_Other Energy</th>\n      <th>StockCluster</th>\n    </tr>\n    <tr>\n      <th>Ticker</th>\n      <th></th>\n      <th></th>\n      <th></th>\n      <th></th>\n      <th></th>\n      <th></th>\n      <th></th>\n      <th></th>\n      <th></th>\n      <th></th>\n    </tr>\n  </thead>\n  <tbody>\n    <tr>\n      <th>ARX</th>\n      <td>-0.916832</td>\n      <td>-0.917217</td>\n      <td>-0.918045</td>\n      <td>-0.918135</td>\n      <td>-0.152786</td>\n      <td>-1.332445</td>\n      <td>0.460854</td>\n      <td>1</td>\n      <td>0</td>\n      <td>2</td>\n    </tr>\n    <tr>\n      <th>CCO</th>\n      <td>-0.880152</td>\n      <td>-0.879472</td>\n      <td>-0.879062</td>\n      <td>-0.878786</td>\n      <td>-0.379117</td>\n      <td>1.695742</td>\n      <td>0.559411</td>\n      <td>0</td>\n      <td>1</td>\n      <td>0</td>\n    </tr>\n    <tr>\n      <th>CNQ</th>\n      <td>0.971524</td>\n      <td>0.977848</td>\n      <td>0.968315</td>\n      <td>0.971255</td>\n      <td>1.272074</td>\n      <td>-0.089092</td>\n      <td>-0.154415</td>\n      <td>1</td>\n      <td>0</td>\n      <td>1</td>\n    </tr>\n    <tr>\n      <th>CVE</th>\n      <td>-0.994122</td>\n      <td>-0.992707</td>\n      <td>-0.994689</td>\n      <td>-0.993553</td>\n      <td>2.376902</td>\n      <td>-0.010201</td>\n      <td>1.331607</td>\n      <td>1</td>\n      <td>0</td>\n      <td>2</td>\n    </tr>\n    <tr>\n      <th>CPG</th>\n      <td>-1.218785</td>\n      <td>-1.221130</td>\n      <td>-1.218673</td>\n      <td>-1.219807</td>\n      <td>1.846798</td>\n      <td>-2.254365</td>\n      <td>1.424424</td>\n      <td>0</td>\n      <td>1</td>\n      <td>2</td>\n    </tr>\n    <tr>\n      <th>ENB</th>\n      <td>1.067154</td>\n      <td>1.064401</td>\n      <td>1.063459</td>\n      <td>1.063725</td>\n      <td>1.720226</td>\n      <td>0.389472</td>\n      <td>-0.736194</td>\n      <td>0</td>\n      <td>1</td>\n      <td>1</td>\n    </tr>\n    <tr>\n      <th>ERF</th>\n      <td>-0.817272</td>\n      <td>-0.815696</td>\n      <td>-0.817615</td>\n      <td>-0.817140</td>\n      <td>-0.453229</td>\n      <td>0.206587</td>\n      <td>0.533576</td>\n      <td>1</td>\n      <td>0</td>\n      <td>2</td>\n    </tr>\n    <tr>\n      <th>GEI</th>\n      <td>-0.563789</td>\n      <td>-0.566448</td>\n      <td>-0.559934</td>\n      <td>-0.561374</td>\n      <td>-1.073401</td>\n      <td>0.950187</td>\n      <td>-0.552474</td>\n      <td>0</td>\n      <td>1</td>\n      <td>2</td>\n    </tr>\n    <tr>\n      <th>HSE</th>\n      <td>-0.540209</td>\n      <td>-0.539766</td>\n      <td>-0.539452</td>\n      <td>-0.539732</td>\n      <td>-0.281932</td>\n      <td>0.094118</td>\n      <td>0.006339</td>\n      <td>0</td>\n      <td>1</td>\n      <td>2</td>\n    </tr>\n    <tr>\n      <th>IMO</th>\n      <td>0.826770</td>\n      <td>0.829470</td>\n      <td>0.829563</td>\n      <td>0.828289</td>\n      <td>-0.483906</td>\n      <td>0.571378</td>\n      <td>-0.855803</td>\n      <td>1</td>\n      <td>0</td>\n      <td>1</td>\n    </tr>\n    <tr>\n      <th>IPL</th>\n      <td>-0.246115</td>\n      <td>-0.252773</td>\n      <td>-0.243448</td>\n      <td>-0.247241</td>\n      <td>-0.432973</td>\n      <td>-0.034325</td>\n      <td>-1.025169</td>\n      <td>0</td>\n      <td>1</td>\n      <td>2</td>\n    </tr>\n    <tr>\n      <th>KEY</th>\n      <td>0.464557</td>\n      <td>0.461781</td>\n      <td>0.464184</td>\n      <td>0.464314</td>\n      <td>-0.920633</td>\n      <td>-0.237095</td>\n      <td>-0.790735</td>\n      <td>0</td>\n      <td>1</td>\n      <td>1</td>\n    </tr>\n    <tr>\n      <th>MEG</th>\n      <td>-1.267255</td>\n      <td>-1.267335</td>\n      <td>-1.268227</td>\n      <td>-1.267026</td>\n      <td>0.387923</td>\n      <td>1.683028</td>\n      <td>2.769786</td>\n      <td>0</td>\n      <td>1</td>\n      <td>0</td>\n    </tr>\n    <tr>\n      <th>MTL</th>\n      <td>-0.806137</td>\n      <td>-0.809839</td>\n      <td>-0.803079</td>\n      <td>-0.805991</td>\n      <td>-1.265295</td>\n      <td>-0.029109</td>\n      <td>-0.783080</td>\n      <td>0</td>\n      <td>1</td>\n      <td>2</td>\n    </tr>\n    <tr>\n      <th>PXT</th>\n      <td>-0.460954</td>\n      <td>-0.455816</td>\n      <td>-0.465451</td>\n      <td>-0.461035</td>\n      <td>-0.845754</td>\n      <td>0.304060</td>\n      <td>0.929721</td>\n      <td>1</td>\n      <td>0</td>\n      <td>2</td>\n    </tr>\n    <tr>\n      <th>PKI</th>\n      <td>0.478966</td>\n      <td>0.483257</td>\n      <td>0.482024</td>\n      <td>0.483988</td>\n      <td>-1.034973</td>\n      <td>1.644887</td>\n      <td>-0.508458</td>\n      <td>0</td>\n      <td>1</td>\n      <td>1</td>\n    </tr>\n    <tr>\n      <th>PPL</th>\n      <td>1.078289</td>\n      <td>1.074163</td>\n      <td>1.082620</td>\n      <td>1.079464</td>\n      <td>-0.337238</td>\n      <td>0.593546</td>\n      <td>-1.177312</td>\n      <td>1</td>\n      <td>0</td>\n      <td>1</td>\n    </tr>\n    <tr>\n      <th>PSK</th>\n      <td>-0.122976</td>\n      <td>-0.120665</td>\n      <td>-0.123858</td>\n      <td>-0.123292</td>\n      <td>-0.938063</td>\n      <td>-1.240188</td>\n      <td>-0.426167</td>\n      <td>1</td>\n      <td>0</td>\n      <td>2</td>\n    </tr>\n    <tr>\n      <th>VII</th>\n      <td>-0.787142</td>\n      <td>-0.783807</td>\n      <td>-0.791847</td>\n      <td>-0.788940</td>\n      <td>-0.433758</td>\n      <td>-1.050458</td>\n      <td>1.191904</td>\n      <td>1</td>\n      <td>0</td>\n      <td>2</td>\n    </tr>\n    <tr>\n      <th>SU</th>\n      <td>1.356662</td>\n      <td>1.360505</td>\n      <td>1.359462</td>\n      <td>1.358183</td>\n      <td>1.384344</td>\n      <td>0.303734</td>\n      <td>-0.688350</td>\n      <td>1</td>\n      <td>0</td>\n      <td>1</td>\n    </tr>\n    <tr>\n      <th>TRP</th>\n      <td>1.838085</td>\n      <td>1.832970</td>\n      <td>1.839146</td>\n      <td>1.837581</td>\n      <td>0.340895</td>\n      <td>0.230711</td>\n      <td>-1.106503</td>\n      <td>0</td>\n      <td>1</td>\n      <td>1</td>\n    </tr>\n    <tr>\n      <th>TOU</th>\n      <td>1.838085</td>\n      <td>1.832970</td>\n      <td>1.839146</td>\n      <td>1.837581</td>\n      <td>0.340895</td>\n      <td>0.230711</td>\n      <td>-1.106503</td>\n      <td>1</td>\n      <td>0</td>\n      <td>1</td>\n    </tr>\n    <tr>\n      <th>VET</th>\n      <td>0.958424</td>\n      <td>0.965483</td>\n      <td>0.949815</td>\n      <td>0.955516</td>\n      <td>-0.775384</td>\n      <td>-0.805308</td>\n      <td>-0.168768</td>\n      <td>1</td>\n      <td>0</td>\n      <td>1</td>\n    </tr>\n    <tr>\n      <th>WCP</th>\n      <td>-1.256775</td>\n      <td>-1.260177</td>\n      <td>-1.254352</td>\n      <td>-1.257844</td>\n      <td>0.138385</td>\n      <td>-1.815573</td>\n      <td>0.872309</td>\n      <td>1</td>\n      <td>0</td>\n      <td>2</td>\n    </tr>\n  </tbody>\n</table>\n</div>"
     },
     "execution_count": 28,
     "metadata": {},
     "output_type": "execute_result"
    }
   ],
   "source": [
    "# Create a new column in the copy of the concatenated DataFrame with the predicted clusters\n",
    "df_stocks_scaled_with_predictions['StockCluster'] = y_hat\n",
    "\n",
    "# Review the DataFrame\n",
    "df_stocks_scaled_with_predictions"
   ]
  },
  {
   "cell_type": "code",
   "execution_count": null,
   "metadata": {},
   "outputs": [],
   "source": []
  }
 ],
 "metadata": {
  "kernelspec": {
   "display_name": "Python 3 (ipykernel)",
   "language": "python",
   "name": "python3"
  },
  "language_info": {
   "codemirror_mode": {
    "name": "ipython",
    "version": 3
   },
   "file_extension": ".py",
   "mimetype": "text/x-python",
   "name": "python",
   "nbconvert_exporter": "python",
   "pygments_lexer": "ipython3",
   "version": "3.10.10"
  }
 },
 "nbformat": 4,
 "nbformat_minor": 4
}
