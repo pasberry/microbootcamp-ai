{
 "cells": [
  {
   "cell_type": "code",
   "execution_count": 1,
   "metadata": {
    "ExecuteTime": {
     "end_time": "2023-10-08T06:34:24.199308Z",
     "start_time": "2023-10-08T06:34:23.324238Z"
    }
   },
   "outputs": [],
   "source": [
    "# Import the required libraries and dependencies\n",
    "import pandas as pd\n",
    "from sklearn.cluster import KMeans\n",
    "from sklearn.decomposition import PCA\n",
    "from sklearn.preprocessing import StandardScaler"
   ]
  },
  {
   "cell_type": "markdown",
   "metadata": {},
   "source": [
    "### Step 1: Read in the `tsx-energy-2018.csv` file and create the DataFrame. Make sure to set the `Ticker` column as the DataFrame’s index. Then review the DataFrame."
   ]
  },
  {
   "cell_type": "code",
   "execution_count": 2,
   "metadata": {
    "ExecuteTime": {
     "end_time": "2023-10-08T06:34:26.018118Z",
     "start_time": "2023-10-08T06:34:25.424298Z"
    }
   },
   "outputs": [
    {
     "data": {
      "text/plain": "                               CompanyName  MeanOpen  MeanHigh  MeanLow  \\\nTicker                                                                    \nARX                     ARC Resources Ltd.     13.14     13.34    12.91   \nCCO                     Cameco Corporation     13.70     13.92    13.50   \nCNQ     Canadian Natural Resources Limited     41.97     42.46    41.46   \nCVE                    Cenovus Energy Inc.     11.96     12.18    11.75   \nCPG            Crescent Point Energy Corp.      8.53      8.67     8.36   \n\n        MeanClose  MeanVolume  AnnualReturn  AnnualVariance    EnergyType  \nTicker                                                                     \nARX         13.10  1479913.38       -0.7275          0.3590           Oil  \nCCO         13.70  1203788.22        0.2014          0.3693  Other Energy  \nCNQ         41.91  3218248.68       -0.3461          0.2947           Oil  \nCVE         11.95  4566143.56       -0.3219          0.4500           Oil  \nCPG          8.50  3919414.03       -1.0103          0.4597  Other Energy  ",
      "text/html": "<div>\n<style scoped>\n    .dataframe tbody tr th:only-of-type {\n        vertical-align: middle;\n    }\n\n    .dataframe tbody tr th {\n        vertical-align: top;\n    }\n\n    .dataframe thead th {\n        text-align: right;\n    }\n</style>\n<table border=\"1\" class=\"dataframe\">\n  <thead>\n    <tr style=\"text-align: right;\">\n      <th></th>\n      <th>CompanyName</th>\n      <th>MeanOpen</th>\n      <th>MeanHigh</th>\n      <th>MeanLow</th>\n      <th>MeanClose</th>\n      <th>MeanVolume</th>\n      <th>AnnualReturn</th>\n      <th>AnnualVariance</th>\n      <th>EnergyType</th>\n    </tr>\n    <tr>\n      <th>Ticker</th>\n      <th></th>\n      <th></th>\n      <th></th>\n      <th></th>\n      <th></th>\n      <th></th>\n      <th></th>\n      <th></th>\n      <th></th>\n    </tr>\n  </thead>\n  <tbody>\n    <tr>\n      <th>ARX</th>\n      <td>ARC Resources Ltd.</td>\n      <td>13.14</td>\n      <td>13.34</td>\n      <td>12.91</td>\n      <td>13.10</td>\n      <td>1479913.38</td>\n      <td>-0.7275</td>\n      <td>0.3590</td>\n      <td>Oil</td>\n    </tr>\n    <tr>\n      <th>CCO</th>\n      <td>Cameco Corporation</td>\n      <td>13.70</td>\n      <td>13.92</td>\n      <td>13.50</td>\n      <td>13.70</td>\n      <td>1203788.22</td>\n      <td>0.2014</td>\n      <td>0.3693</td>\n      <td>Other Energy</td>\n    </tr>\n    <tr>\n      <th>CNQ</th>\n      <td>Canadian Natural Resources Limited</td>\n      <td>41.97</td>\n      <td>42.46</td>\n      <td>41.46</td>\n      <td>41.91</td>\n      <td>3218248.68</td>\n      <td>-0.3461</td>\n      <td>0.2947</td>\n      <td>Oil</td>\n    </tr>\n    <tr>\n      <th>CVE</th>\n      <td>Cenovus Energy Inc.</td>\n      <td>11.96</td>\n      <td>12.18</td>\n      <td>11.75</td>\n      <td>11.95</td>\n      <td>4566143.56</td>\n      <td>-0.3219</td>\n      <td>0.4500</td>\n      <td>Oil</td>\n    </tr>\n    <tr>\n      <th>CPG</th>\n      <td>Crescent Point Energy Corp.</td>\n      <td>8.53</td>\n      <td>8.67</td>\n      <td>8.36</td>\n      <td>8.50</td>\n      <td>3919414.03</td>\n      <td>-1.0103</td>\n      <td>0.4597</td>\n      <td>Other Energy</td>\n    </tr>\n  </tbody>\n</table>\n</div>"
     },
     "execution_count": 2,
     "metadata": {},
     "output_type": "execute_result"
    }
   ],
   "source": [
    "# Read the CSV file into a Pandas DataFrame\n",
    "# Set the index using the Ticker column\n",
    "df_stocks = pd.read_csv(\"https://static.bc-edx.com/mbc/ai/m2/datasets/tsx-energy-2018.csv\", index_col=\"Ticker\")\n",
    "\n",
    "# Review the DataFrame\n",
    "df_stocks.head()"
   ]
  },
  {
   "cell_type": "markdown",
   "metadata": {},
   "source": [
    "### Step 2: Review the four code cells that are included in this step in the notebook. These cells contain the code that scales the `df_stocks` DataFrame and creates a new DataFrame that contains the scaled data. "
   ]
  },
  {
   "cell_type": "code",
   "execution_count": 3,
   "metadata": {
    "ExecuteTime": {
     "end_time": "2023-10-08T06:38:41.740291Z",
     "start_time": "2023-10-08T06:38:41.737805Z"
    }
   },
   "outputs": [],
   "source": [
    "# Scale price data, return, and variance values\n",
    "stocks_standardized = StandardScaler().fit_transform(df_stocks[[\"MeanOpen\", \"MeanHigh\", \"MeanLow\", \"MeanClose\", \"MeanVolume\", \"AnnualReturn\", \"AnnualVariance\"]])"
   ]
  },
  {
   "cell_type": "code",
   "execution_count": 4,
   "metadata": {
    "ExecuteTime": {
     "end_time": "2023-10-08T06:38:43.475751Z",
     "start_time": "2023-10-08T06:38:43.439895Z"
    }
   },
   "outputs": [
    {
     "data": {
      "text/plain": "        MeanOpen  MeanHigh   MeanLow  MeanClose  MeanVolume  AnnualReturn  \\\nTicker                                                                      \nARX    -0.916832 -0.917217 -0.918045  -0.918135   -0.152786     -1.332445   \nCCO    -0.880152 -0.879472 -0.879062  -0.878786   -0.379117      1.695742   \nCNQ     0.971524  0.977848  0.968315   0.971255    1.272074     -0.089092   \nCVE    -0.994122 -0.992707 -0.994689  -0.993553    2.376902     -0.010201   \nCPG    -1.218785 -1.221130 -1.218673  -1.219807    1.846798     -2.254365   \nENB     1.067154  1.064401  1.063459   1.063725    1.720226      0.389472   \nERF    -0.817272 -0.815696 -0.817615  -0.817140   -0.453229      0.206587   \nGEI    -0.563789 -0.566448 -0.559934  -0.561374   -1.073401      0.950187   \nHSE    -0.540209 -0.539766 -0.539452  -0.539732   -0.281932      0.094118   \nIMO     0.826770  0.829470  0.829563   0.828289   -0.483906      0.571378   \nIPL    -0.246115 -0.252773 -0.243448  -0.247241   -0.432973     -0.034325   \nKEY     0.464557  0.461781  0.464184   0.464314   -0.920633     -0.237095   \nMEG    -1.267255 -1.267335 -1.268227  -1.267026    0.387923      1.683028   \nMTL    -0.806137 -0.809839 -0.803079  -0.805991   -1.265295     -0.029109   \nPXT    -0.460954 -0.455816 -0.465451  -0.461035   -0.845754      0.304060   \nPKI     0.478966  0.483257  0.482024   0.483988   -1.034973      1.644887   \nPPL     1.078289  1.074163  1.082620   1.079464   -0.337238      0.593546   \nPSK    -0.122976 -0.120665 -0.123858  -0.123292   -0.938063     -1.240188   \nVII    -0.787142 -0.783807 -0.791847  -0.788940   -0.433758     -1.050458   \nSU      1.356662  1.360505  1.359462   1.358183    1.384344      0.303734   \n\n        AnnualVariance  \nTicker                  \nARX           0.460854  \nCCO           0.559411  \nCNQ          -0.154415  \nCVE           1.331607  \nCPG           1.424424  \nENB          -0.736194  \nERF           0.533576  \nGEI          -0.552474  \nHSE           0.006339  \nIMO          -0.855803  \nIPL          -1.025169  \nKEY          -0.790735  \nMEG           2.769786  \nMTL          -0.783080  \nPXT           0.929721  \nPKI          -0.508458  \nPPL          -1.177312  \nPSK          -0.426167  \nVII           1.191904  \nSU           -0.688350  ",
      "text/html": "<div>\n<style scoped>\n    .dataframe tbody tr th:only-of-type {\n        vertical-align: middle;\n    }\n\n    .dataframe tbody tr th {\n        vertical-align: top;\n    }\n\n    .dataframe thead th {\n        text-align: right;\n    }\n</style>\n<table border=\"1\" class=\"dataframe\">\n  <thead>\n    <tr style=\"text-align: right;\">\n      <th></th>\n      <th>MeanOpen</th>\n      <th>MeanHigh</th>\n      <th>MeanLow</th>\n      <th>MeanClose</th>\n      <th>MeanVolume</th>\n      <th>AnnualReturn</th>\n      <th>AnnualVariance</th>\n    </tr>\n    <tr>\n      <th>Ticker</th>\n      <th></th>\n      <th></th>\n      <th></th>\n      <th></th>\n      <th></th>\n      <th></th>\n      <th></th>\n    </tr>\n  </thead>\n  <tbody>\n    <tr>\n      <th>ARX</th>\n      <td>-0.916832</td>\n      <td>-0.917217</td>\n      <td>-0.918045</td>\n      <td>-0.918135</td>\n      <td>-0.152786</td>\n      <td>-1.332445</td>\n      <td>0.460854</td>\n    </tr>\n    <tr>\n      <th>CCO</th>\n      <td>-0.880152</td>\n      <td>-0.879472</td>\n      <td>-0.879062</td>\n      <td>-0.878786</td>\n      <td>-0.379117</td>\n      <td>1.695742</td>\n      <td>0.559411</td>\n    </tr>\n    <tr>\n      <th>CNQ</th>\n      <td>0.971524</td>\n      <td>0.977848</td>\n      <td>0.968315</td>\n      <td>0.971255</td>\n      <td>1.272074</td>\n      <td>-0.089092</td>\n      <td>-0.154415</td>\n    </tr>\n    <tr>\n      <th>CVE</th>\n      <td>-0.994122</td>\n      <td>-0.992707</td>\n      <td>-0.994689</td>\n      <td>-0.993553</td>\n      <td>2.376902</td>\n      <td>-0.010201</td>\n      <td>1.331607</td>\n    </tr>\n    <tr>\n      <th>CPG</th>\n      <td>-1.218785</td>\n      <td>-1.221130</td>\n      <td>-1.218673</td>\n      <td>-1.219807</td>\n      <td>1.846798</td>\n      <td>-2.254365</td>\n      <td>1.424424</td>\n    </tr>\n    <tr>\n      <th>ENB</th>\n      <td>1.067154</td>\n      <td>1.064401</td>\n      <td>1.063459</td>\n      <td>1.063725</td>\n      <td>1.720226</td>\n      <td>0.389472</td>\n      <td>-0.736194</td>\n    </tr>\n    <tr>\n      <th>ERF</th>\n      <td>-0.817272</td>\n      <td>-0.815696</td>\n      <td>-0.817615</td>\n      <td>-0.817140</td>\n      <td>-0.453229</td>\n      <td>0.206587</td>\n      <td>0.533576</td>\n    </tr>\n    <tr>\n      <th>GEI</th>\n      <td>-0.563789</td>\n      <td>-0.566448</td>\n      <td>-0.559934</td>\n      <td>-0.561374</td>\n      <td>-1.073401</td>\n      <td>0.950187</td>\n      <td>-0.552474</td>\n    </tr>\n    <tr>\n      <th>HSE</th>\n      <td>-0.540209</td>\n      <td>-0.539766</td>\n      <td>-0.539452</td>\n      <td>-0.539732</td>\n      <td>-0.281932</td>\n      <td>0.094118</td>\n      <td>0.006339</td>\n    </tr>\n    <tr>\n      <th>IMO</th>\n      <td>0.826770</td>\n      <td>0.829470</td>\n      <td>0.829563</td>\n      <td>0.828289</td>\n      <td>-0.483906</td>\n      <td>0.571378</td>\n      <td>-0.855803</td>\n    </tr>\n    <tr>\n      <th>IPL</th>\n      <td>-0.246115</td>\n      <td>-0.252773</td>\n      <td>-0.243448</td>\n      <td>-0.247241</td>\n      <td>-0.432973</td>\n      <td>-0.034325</td>\n      <td>-1.025169</td>\n    </tr>\n    <tr>\n      <th>KEY</th>\n      <td>0.464557</td>\n      <td>0.461781</td>\n      <td>0.464184</td>\n      <td>0.464314</td>\n      <td>-0.920633</td>\n      <td>-0.237095</td>\n      <td>-0.790735</td>\n    </tr>\n    <tr>\n      <th>MEG</th>\n      <td>-1.267255</td>\n      <td>-1.267335</td>\n      <td>-1.268227</td>\n      <td>-1.267026</td>\n      <td>0.387923</td>\n      <td>1.683028</td>\n      <td>2.769786</td>\n    </tr>\n    <tr>\n      <th>MTL</th>\n      <td>-0.806137</td>\n      <td>-0.809839</td>\n      <td>-0.803079</td>\n      <td>-0.805991</td>\n      <td>-1.265295</td>\n      <td>-0.029109</td>\n      <td>-0.783080</td>\n    </tr>\n    <tr>\n      <th>PXT</th>\n      <td>-0.460954</td>\n      <td>-0.455816</td>\n      <td>-0.465451</td>\n      <td>-0.461035</td>\n      <td>-0.845754</td>\n      <td>0.304060</td>\n      <td>0.929721</td>\n    </tr>\n    <tr>\n      <th>PKI</th>\n      <td>0.478966</td>\n      <td>0.483257</td>\n      <td>0.482024</td>\n      <td>0.483988</td>\n      <td>-1.034973</td>\n      <td>1.644887</td>\n      <td>-0.508458</td>\n    </tr>\n    <tr>\n      <th>PPL</th>\n      <td>1.078289</td>\n      <td>1.074163</td>\n      <td>1.082620</td>\n      <td>1.079464</td>\n      <td>-0.337238</td>\n      <td>0.593546</td>\n      <td>-1.177312</td>\n    </tr>\n    <tr>\n      <th>PSK</th>\n      <td>-0.122976</td>\n      <td>-0.120665</td>\n      <td>-0.123858</td>\n      <td>-0.123292</td>\n      <td>-0.938063</td>\n      <td>-1.240188</td>\n      <td>-0.426167</td>\n    </tr>\n    <tr>\n      <th>VII</th>\n      <td>-0.787142</td>\n      <td>-0.783807</td>\n      <td>-0.791847</td>\n      <td>-0.788940</td>\n      <td>-0.433758</td>\n      <td>-1.050458</td>\n      <td>1.191904</td>\n    </tr>\n    <tr>\n      <th>SU</th>\n      <td>1.356662</td>\n      <td>1.360505</td>\n      <td>1.359462</td>\n      <td>1.358183</td>\n      <td>1.384344</td>\n      <td>0.303734</td>\n      <td>-0.688350</td>\n    </tr>\n  </tbody>\n</table>\n</div>"
     },
     "execution_count": 4,
     "metadata": {},
     "output_type": "execute_result"
    }
   ],
   "source": [
    "# Create a DataFrame with the scaled data\n",
    "df_stocks_scaled = pd.DataFrame(stocks_standardized, columns=[\"MeanOpen\", \"MeanHigh\", \"MeanLow\", \"MeanClose\", \"MeanVolume\", \"AnnualReturn\", \"AnnualVariance\"])\n",
    "\n",
    "# Copy the tickers names from the original data\n",
    "df_stocks_scaled[\"Ticker\"] = df_stocks.index\n",
    "\n",
    "# Set the Ticker column as index\n",
    "df_stocks_scaled = df_stocks_scaled.set_index(\"Ticker\")\n",
    "\n",
    "# Display sample data\n",
    "df_stocks_scaled.head(20)"
   ]
  },
  {
   "cell_type": "code",
   "execution_count": 5,
   "metadata": {
    "ExecuteTime": {
     "end_time": "2023-10-08T06:38:55.413263Z",
     "start_time": "2023-10-08T06:38:55.408321Z"
    }
   },
   "outputs": [
    {
     "data": {
      "text/plain": "        Oil  Other Energy\nTicker                   \nARX       1             0\nCCO       0             1\nCNQ       1             0\nCVE       1             0\nCPG       0             1",
      "text/html": "<div>\n<style scoped>\n    .dataframe tbody tr th:only-of-type {\n        vertical-align: middle;\n    }\n\n    .dataframe tbody tr th {\n        vertical-align: top;\n    }\n\n    .dataframe thead th {\n        text-align: right;\n    }\n</style>\n<table border=\"1\" class=\"dataframe\">\n  <thead>\n    <tr style=\"text-align: right;\">\n      <th></th>\n      <th>Oil</th>\n      <th>Other Energy</th>\n    </tr>\n    <tr>\n      <th>Ticker</th>\n      <th></th>\n      <th></th>\n    </tr>\n  </thead>\n  <tbody>\n    <tr>\n      <th>ARX</th>\n      <td>1</td>\n      <td>0</td>\n    </tr>\n    <tr>\n      <th>CCO</th>\n      <td>0</td>\n      <td>1</td>\n    </tr>\n    <tr>\n      <th>CNQ</th>\n      <td>1</td>\n      <td>0</td>\n    </tr>\n    <tr>\n      <th>CVE</th>\n      <td>1</td>\n      <td>0</td>\n    </tr>\n    <tr>\n      <th>CPG</th>\n      <td>0</td>\n      <td>1</td>\n    </tr>\n  </tbody>\n</table>\n</div>"
     },
     "execution_count": 5,
     "metadata": {},
     "output_type": "execute_result"
    }
   ],
   "source": [
    "# Encode (convert to dummy variables) the `EnergyType` column, which categorizes oil versus non-oil firms\n",
    "oil_dummies = pd.get_dummies(df_stocks[\"EnergyType\"])\n",
    "oil_dummies.head()"
   ]
  },
  {
   "cell_type": "code",
   "execution_count": 6,
   "metadata": {
    "ExecuteTime": {
     "end_time": "2023-10-08T06:39:51.177775Z",
     "start_time": "2023-10-08T06:39:51.168393Z"
    }
   },
   "outputs": [
    {
     "data": {
      "text/plain": "        MeanOpen  MeanHigh   MeanLow  MeanClose  MeanVolume  AnnualReturn  \\\nTicker                                                                      \nARX    -0.916832 -0.917217 -0.918045  -0.918135   -0.152786     -1.332445   \nCCO    -0.880152 -0.879472 -0.879062  -0.878786   -0.379117      1.695742   \nCNQ     0.971524  0.977848  0.968315   0.971255    1.272074     -0.089092   \nCVE    -0.994122 -0.992707 -0.994689  -0.993553    2.376902     -0.010201   \nCPG    -1.218785 -1.221130 -1.218673  -1.219807    1.846798     -2.254365   \n\n        AnnualVariance  Oil  Other Energy  \nTicker                                     \nARX           0.460854    1             0  \nCCO           0.559411    0             1  \nCNQ          -0.154415    1             0  \nCVE           1.331607    1             0  \nCPG           1.424424    0             1  ",
      "text/html": "<div>\n<style scoped>\n    .dataframe tbody tr th:only-of-type {\n        vertical-align: middle;\n    }\n\n    .dataframe tbody tr th {\n        vertical-align: top;\n    }\n\n    .dataframe thead th {\n        text-align: right;\n    }\n</style>\n<table border=\"1\" class=\"dataframe\">\n  <thead>\n    <tr style=\"text-align: right;\">\n      <th></th>\n      <th>MeanOpen</th>\n      <th>MeanHigh</th>\n      <th>MeanLow</th>\n      <th>MeanClose</th>\n      <th>MeanVolume</th>\n      <th>AnnualReturn</th>\n      <th>AnnualVariance</th>\n      <th>Oil</th>\n      <th>Other Energy</th>\n    </tr>\n    <tr>\n      <th>Ticker</th>\n      <th></th>\n      <th></th>\n      <th></th>\n      <th></th>\n      <th></th>\n      <th></th>\n      <th></th>\n      <th></th>\n      <th></th>\n    </tr>\n  </thead>\n  <tbody>\n    <tr>\n      <th>ARX</th>\n      <td>-0.916832</td>\n      <td>-0.917217</td>\n      <td>-0.918045</td>\n      <td>-0.918135</td>\n      <td>-0.152786</td>\n      <td>-1.332445</td>\n      <td>0.460854</td>\n      <td>1</td>\n      <td>0</td>\n    </tr>\n    <tr>\n      <th>CCO</th>\n      <td>-0.880152</td>\n      <td>-0.879472</td>\n      <td>-0.879062</td>\n      <td>-0.878786</td>\n      <td>-0.379117</td>\n      <td>1.695742</td>\n      <td>0.559411</td>\n      <td>0</td>\n      <td>1</td>\n    </tr>\n    <tr>\n      <th>CNQ</th>\n      <td>0.971524</td>\n      <td>0.977848</td>\n      <td>0.968315</td>\n      <td>0.971255</td>\n      <td>1.272074</td>\n      <td>-0.089092</td>\n      <td>-0.154415</td>\n      <td>1</td>\n      <td>0</td>\n    </tr>\n    <tr>\n      <th>CVE</th>\n      <td>-0.994122</td>\n      <td>-0.992707</td>\n      <td>-0.994689</td>\n      <td>-0.993553</td>\n      <td>2.376902</td>\n      <td>-0.010201</td>\n      <td>1.331607</td>\n      <td>1</td>\n      <td>0</td>\n    </tr>\n    <tr>\n      <th>CPG</th>\n      <td>-1.218785</td>\n      <td>-1.221130</td>\n      <td>-1.218673</td>\n      <td>-1.219807</td>\n      <td>1.846798</td>\n      <td>-2.254365</td>\n      <td>1.424424</td>\n      <td>0</td>\n      <td>1</td>\n    </tr>\n  </tbody>\n</table>\n</div>"
     },
     "execution_count": 6,
     "metadata": {},
     "output_type": "execute_result"
    }
   ],
   "source": [
    "# Concatenate the `EnergyType` encoded dummies with the scaled data DataFrame\n",
    "df_stocks_scaled = pd.concat([df_stocks_scaled, oil_dummies], axis=1)\n",
    "\n",
    "# Display the sample data\n",
    "df_stocks_scaled.head()"
   ]
  },
  {
   "cell_type": "markdown",
   "metadata": {},
   "source": [
    "### Step 3: Using the `df_stocks_scaled` DataFrame, cluster the data by using the K-means algorithm and a lowercase-k value of  3. Add the resulting list of company segment values as a new column in the `df_stocks_scaled` DataFrame. \n",
    "\n",
    "> **Rewind** You can use a lowercase-k value of 3 to start, or you can use the elbow method to find the optimal value for lowercase-k."
   ]
  },
  {
   "cell_type": "code",
   "execution_count": 7,
   "metadata": {
    "ExecuteTime": {
     "end_time": "2023-10-08T06:40:36.777604Z",
     "start_time": "2023-10-08T06:40:36.774522Z"
    }
   },
   "outputs": [],
   "source": [
    "# Initialize the K-Means model with n_clusters=3\n",
    "model = KMeans(n_clusters=3, n_init='auto')"
   ]
  },
  {
   "cell_type": "code",
   "execution_count": 8,
   "metadata": {
    "ExecuteTime": {
     "end_time": "2023-10-08T06:40:39.794602Z",
     "start_time": "2023-10-08T06:40:39.704928Z"
    }
   },
   "outputs": [
    {
     "data": {
      "text/plain": "KMeans(n_clusters=3, n_init='auto')",
      "text/html": "<style>#sk-container-id-1 {color: black;background-color: white;}#sk-container-id-1 pre{padding: 0;}#sk-container-id-1 div.sk-toggleable {background-color: white;}#sk-container-id-1 label.sk-toggleable__label {cursor: pointer;display: block;width: 100%;margin-bottom: 0;padding: 0.3em;box-sizing: border-box;text-align: center;}#sk-container-id-1 label.sk-toggleable__label-arrow:before {content: \"▸\";float: left;margin-right: 0.25em;color: #696969;}#sk-container-id-1 label.sk-toggleable__label-arrow:hover:before {color: black;}#sk-container-id-1 div.sk-estimator:hover label.sk-toggleable__label-arrow:before {color: black;}#sk-container-id-1 div.sk-toggleable__content {max-height: 0;max-width: 0;overflow: hidden;text-align: left;background-color: #f0f8ff;}#sk-container-id-1 div.sk-toggleable__content pre {margin: 0.2em;color: black;border-radius: 0.25em;background-color: #f0f8ff;}#sk-container-id-1 input.sk-toggleable__control:checked~div.sk-toggleable__content {max-height: 200px;max-width: 100%;overflow: auto;}#sk-container-id-1 input.sk-toggleable__control:checked~label.sk-toggleable__label-arrow:before {content: \"▾\";}#sk-container-id-1 div.sk-estimator input.sk-toggleable__control:checked~label.sk-toggleable__label {background-color: #d4ebff;}#sk-container-id-1 div.sk-label input.sk-toggleable__control:checked~label.sk-toggleable__label {background-color: #d4ebff;}#sk-container-id-1 input.sk-hidden--visually {border: 0;clip: rect(1px 1px 1px 1px);clip: rect(1px, 1px, 1px, 1px);height: 1px;margin: -1px;overflow: hidden;padding: 0;position: absolute;width: 1px;}#sk-container-id-1 div.sk-estimator {font-family: monospace;background-color: #f0f8ff;border: 1px dotted black;border-radius: 0.25em;box-sizing: border-box;margin-bottom: 0.5em;}#sk-container-id-1 div.sk-estimator:hover {background-color: #d4ebff;}#sk-container-id-1 div.sk-parallel-item::after {content: \"\";width: 100%;border-bottom: 1px solid gray;flex-grow: 1;}#sk-container-id-1 div.sk-label:hover label.sk-toggleable__label {background-color: #d4ebff;}#sk-container-id-1 div.sk-serial::before {content: \"\";position: absolute;border-left: 1px solid gray;box-sizing: border-box;top: 0;bottom: 0;left: 50%;z-index: 0;}#sk-container-id-1 div.sk-serial {display: flex;flex-direction: column;align-items: center;background-color: white;padding-right: 0.2em;padding-left: 0.2em;position: relative;}#sk-container-id-1 div.sk-item {position: relative;z-index: 1;}#sk-container-id-1 div.sk-parallel {display: flex;align-items: stretch;justify-content: center;background-color: white;position: relative;}#sk-container-id-1 div.sk-item::before, #sk-container-id-1 div.sk-parallel-item::before {content: \"\";position: absolute;border-left: 1px solid gray;box-sizing: border-box;top: 0;bottom: 0;left: 50%;z-index: -1;}#sk-container-id-1 div.sk-parallel-item {display: flex;flex-direction: column;z-index: 1;position: relative;background-color: white;}#sk-container-id-1 div.sk-parallel-item:first-child::after {align-self: flex-end;width: 50%;}#sk-container-id-1 div.sk-parallel-item:last-child::after {align-self: flex-start;width: 50%;}#sk-container-id-1 div.sk-parallel-item:only-child::after {width: 0;}#sk-container-id-1 div.sk-dashed-wrapped {border: 1px dashed gray;margin: 0 0.4em 0.5em 0.4em;box-sizing: border-box;padding-bottom: 0.4em;background-color: white;}#sk-container-id-1 div.sk-label label {font-family: monospace;font-weight: bold;display: inline-block;line-height: 1.2em;}#sk-container-id-1 div.sk-label-container {text-align: center;}#sk-container-id-1 div.sk-container {/* jupyter's `normalize.less` sets `[hidden] { display: none; }` but bootstrap.min.css set `[hidden] { display: none !important; }` so we also need the `!important` here to be able to override the default hidden behavior on the sphinx rendered scikit-learn.org. See: https://github.com/scikit-learn/scikit-learn/issues/21755 */display: inline-block !important;position: relative;}#sk-container-id-1 div.sk-text-repr-fallback {display: none;}</style><div id=\"sk-container-id-1\" class=\"sk-top-container\"><div class=\"sk-text-repr-fallback\"><pre>KMeans(n_clusters=3, n_init=&#x27;auto&#x27;)</pre><b>In a Jupyter environment, please rerun this cell to show the HTML representation or trust the notebook. <br />On GitHub, the HTML representation is unable to render, please try loading this page with nbviewer.org.</b></div><div class=\"sk-container\" hidden><div class=\"sk-item\"><div class=\"sk-estimator sk-toggleable\"><input class=\"sk-toggleable__control sk-hidden--visually\" id=\"sk-estimator-id-1\" type=\"checkbox\" checked><label for=\"sk-estimator-id-1\" class=\"sk-toggleable__label sk-toggleable__label-arrow\">KMeans</label><div class=\"sk-toggleable__content\"><pre>KMeans(n_clusters=3, n_init=&#x27;auto&#x27;)</pre></div></div></div></div></div>"
     },
     "execution_count": 8,
     "metadata": {},
     "output_type": "execute_result"
    }
   ],
   "source": [
    "# Fit the model for the df_stocks_scaled DataFrame\n",
    "model.fit(df_stocks_scaled)"
   ]
  },
  {
   "cell_type": "code",
   "execution_count": 9,
   "metadata": {
    "ExecuteTime": {
     "end_time": "2023-10-08T06:41:05.566320Z",
     "start_time": "2023-10-08T06:41:05.559648Z"
    }
   },
   "outputs": [
    {
     "name": "stdout",
     "output_type": "stream",
     "text": [
      "[2 2 1 0 0 1 2 2 2 1 2 1 2 2 2 1 1 2 2 1 1 1 1 0]\n"
     ]
    }
   ],
   "source": [
    "# Predict the model segments (clusters)\n",
    "stock_clusters = model.predict(df_stocks_scaled)\n",
    "\n",
    "# View the stock segments\n",
    "print(stock_clusters)"
   ]
  },
  {
   "cell_type": "code",
   "execution_count": 10,
   "metadata": {
    "ExecuteTime": {
     "end_time": "2023-10-08T06:41:42.996824Z",
     "start_time": "2023-10-08T06:41:42.991303Z"
    }
   },
   "outputs": [
    {
     "data": {
      "text/plain": "        MeanOpen  MeanHigh   MeanLow  MeanClose  MeanVolume  AnnualReturn  \\\nTicker                                                                      \nARX    -0.916832 -0.917217 -0.918045  -0.918135   -0.152786     -1.332445   \nCCO    -0.880152 -0.879472 -0.879062  -0.878786   -0.379117      1.695742   \nCNQ     0.971524  0.977848  0.968315   0.971255    1.272074     -0.089092   \nCVE    -0.994122 -0.992707 -0.994689  -0.993553    2.376902     -0.010201   \nCPG    -1.218785 -1.221130 -1.218673  -1.219807    1.846798     -2.254365   \n\n        AnnualVariance  Oil  Other Energy  StockCluster  \nTicker                                                   \nARX           0.460854    1             0             2  \nCCO           0.559411    0             1             2  \nCNQ          -0.154415    1             0             1  \nCVE           1.331607    1             0             0  \nCPG           1.424424    0             1             0  ",
      "text/html": "<div>\n<style scoped>\n    .dataframe tbody tr th:only-of-type {\n        vertical-align: middle;\n    }\n\n    .dataframe tbody tr th {\n        vertical-align: top;\n    }\n\n    .dataframe thead th {\n        text-align: right;\n    }\n</style>\n<table border=\"1\" class=\"dataframe\">\n  <thead>\n    <tr style=\"text-align: right;\">\n      <th></th>\n      <th>MeanOpen</th>\n      <th>MeanHigh</th>\n      <th>MeanLow</th>\n      <th>MeanClose</th>\n      <th>MeanVolume</th>\n      <th>AnnualReturn</th>\n      <th>AnnualVariance</th>\n      <th>Oil</th>\n      <th>Other Energy</th>\n      <th>StockCluster</th>\n    </tr>\n    <tr>\n      <th>Ticker</th>\n      <th></th>\n      <th></th>\n      <th></th>\n      <th></th>\n      <th></th>\n      <th></th>\n      <th></th>\n      <th></th>\n      <th></th>\n      <th></th>\n    </tr>\n  </thead>\n  <tbody>\n    <tr>\n      <th>ARX</th>\n      <td>-0.916832</td>\n      <td>-0.917217</td>\n      <td>-0.918045</td>\n      <td>-0.918135</td>\n      <td>-0.152786</td>\n      <td>-1.332445</td>\n      <td>0.460854</td>\n      <td>1</td>\n      <td>0</td>\n      <td>2</td>\n    </tr>\n    <tr>\n      <th>CCO</th>\n      <td>-0.880152</td>\n      <td>-0.879472</td>\n      <td>-0.879062</td>\n      <td>-0.878786</td>\n      <td>-0.379117</td>\n      <td>1.695742</td>\n      <td>0.559411</td>\n      <td>0</td>\n      <td>1</td>\n      <td>2</td>\n    </tr>\n    <tr>\n      <th>CNQ</th>\n      <td>0.971524</td>\n      <td>0.977848</td>\n      <td>0.968315</td>\n      <td>0.971255</td>\n      <td>1.272074</td>\n      <td>-0.089092</td>\n      <td>-0.154415</td>\n      <td>1</td>\n      <td>0</td>\n      <td>1</td>\n    </tr>\n    <tr>\n      <th>CVE</th>\n      <td>-0.994122</td>\n      <td>-0.992707</td>\n      <td>-0.994689</td>\n      <td>-0.993553</td>\n      <td>2.376902</td>\n      <td>-0.010201</td>\n      <td>1.331607</td>\n      <td>1</td>\n      <td>0</td>\n      <td>0</td>\n    </tr>\n    <tr>\n      <th>CPG</th>\n      <td>-1.218785</td>\n      <td>-1.221130</td>\n      <td>-1.218673</td>\n      <td>-1.219807</td>\n      <td>1.846798</td>\n      <td>-2.254365</td>\n      <td>1.424424</td>\n      <td>0</td>\n      <td>1</td>\n      <td>0</td>\n    </tr>\n  </tbody>\n</table>\n</div>"
     },
     "execution_count": 10,
     "metadata": {},
     "output_type": "execute_result"
    }
   ],
   "source": [
    "# Create a new column in the DataFrame with the predicted clusters\n",
    "df_stocks_scaled['StockCluster'] = stock_clusters\n",
    "\n",
    "# Review the DataFrame\n",
    "df_stocks_scaled.head()"
   ]
  },
  {
   "cell_type": "markdown",
   "metadata": {},
   "source": [
    "### Step 4: Using Pandas plot, create a scatter plot to visualize the clusters setting `x=\"AnnualVariance\"`,  `y=\"Annual Return\"`, and `by=\"StockCluster\"`. Be sure to style and format your plot."
   ]
  },
  {
   "cell_type": "code",
   "execution_count": 11,
   "metadata": {
    "ExecuteTime": {
     "end_time": "2023-10-08T06:43:14.988868Z",
     "start_time": "2023-10-08T06:43:14.612279Z"
    }
   },
   "outputs": [
    {
     "data": {
      "text/plain": "<Axes: xlabel='AnnualVariance', ylabel='AnnualReturn'>"
     },
     "execution_count": 11,
     "metadata": {},
     "output_type": "execute_result"
    },
    {
     "data": {
      "text/plain": "<Figure size 640x480 with 2 Axes>",
      "image/png": "[encoded data removed]"
     },
     "metadata": {},
     "output_type": "display_data"
    }
   ],
   "source": [
    "# Create a scatter plot with x=\"AnnualVariance:,  y=\"AnnualReturn\"\n",
    "df_stocks_scaled.plot.scatter(\n",
    "    x=\"AnnualVariance\",\n",
    "    y=\"AnnualReturn\",\n",
    "    c=\"StockCluster\",\n",
    "    colormap='winter')\n"
   ]
  },
  {
   "cell_type": "markdown",
   "metadata": {},
   "source": [
    "### Step 5: To get another perspective on the clusters, reduce the number of features to two principal components by using PCA. Make sure to do the following: \n",
    "\n",
    "---\n",
    "- Use the `df_stocks_scaled` DataFrame to complete this analysis. \n",
    "- Review the PCA data. \n",
    "- Calculate the explained variance ratio that results from the PCA data. \n"
   ]
  },
  {
   "cell_type": "code",
   "execution_count": 19,
   "metadata": {
    "ExecuteTime": {
     "end_time": "2023-10-08T06:51:18.245088Z",
     "start_time": "2023-10-08T06:51:18.242611Z"
    }
   },
   "outputs": [],
   "source": [
    "# Create the PCA model instance where n_components=2\n",
    "pca = PCA(n_components=2)"
   ]
  },
  {
   "cell_type": "code",
   "execution_count": 20,
   "metadata": {
    "ExecuteTime": {
     "end_time": "2023-10-08T06:51:19.704673Z",
     "start_time": "2023-10-08T06:51:19.700640Z"
    }
   },
   "outputs": [
    {
     "data": {
      "text/plain": "array([[-2.03800687,  0.31799761],\n       [-1.69967487, -1.58779104],\n       [ 1.8983285 ,  1.36259733],\n       [-2.16510038,  2.45248587],\n       [-2.93609876,  2.84167047]])"
     },
     "execution_count": 20,
     "metadata": {},
     "output_type": "execute_result"
    }
   ],
   "source": [
    "# Fit the df_stocks_scaled data to the PCA\n",
    "stocks_pca_data = pca.fit_transform(df_stocks_scaled)\n",
    "\n",
    "# Review the first five rose of the PCA data\n",
    "# using bracket notation ([0:5])\n",
    "stocks_pca_data[:5]"
   ]
  },
  {
   "cell_type": "code",
   "execution_count": 21,
   "metadata": {
    "ExecuteTime": {
     "end_time": "2023-10-08T06:51:21.560724Z",
     "start_time": "2023-10-08T06:51:21.554881Z"
    }
   },
   "outputs": [
    {
     "data": {
      "text/plain": "array([0.58907463, 0.19113038])"
     },
     "execution_count": 21,
     "metadata": {},
     "output_type": "execute_result"
    }
   ],
   "source": [
    "# Calculate the explained variance\n",
    "pca.explained_variance_ratio_"
   ]
  },
  {
   "cell_type": "markdown",
   "metadata": {},
   "source": [
    "### Step 6: Using the PCA data calculated in the previous step, create a new DataFrame called `df_stocks_pca`. Make sure to do the following: \n",
    "\n",
    "* Add an additional column to the DataFrame that contains the tickers from the original `df_stocks` DataFrame. \n",
    "\n",
    "* Set the new Tickers column as the index. \n",
    "\n",
    "* Review the DataFrame.\n"
   ]
  },
  {
   "cell_type": "code",
   "execution_count": 23,
   "metadata": {
    "ExecuteTime": {
     "end_time": "2023-10-08T06:51:54.901643Z",
     "start_time": "2023-10-08T06:51:54.896421Z"
    }
   },
   "outputs": [
    {
     "data": {
      "text/plain": "            PCA1      PCA2\nTicker                    \nARX    -2.038007  0.317998\nCCO    -1.699675 -1.587791\nCNQ     1.898329  1.362597\nCVE    -2.165100  2.452486\nCPG    -2.936099  2.841670\nENB     2.300575  1.016111\nERF    -1.704307 -0.598850\nGEI    -0.805905 -1.888914\nHSE    -1.058022 -0.799887\nIMO     1.941828 -0.350603\nIPL    -0.155885 -1.013741\nKEY     1.097012 -0.627664\nMEG    -3.221244 -0.637426\nMTL    -1.285679 -1.645894\nPXT    -1.193555 -0.756337\nPKI     1.245587 -1.552498\nPPL     2.525537 -0.282509\nPSK    -0.252805 -0.306374\nVII    -2.043631  0.177382\nSU      2.854304  1.206931\nTRP     3.812059  0.216139\nTOU     3.860120  0.526909\nVET     1.755305  0.296232\nWCP    -2.730741  1.634031",
      "text/html": "<div>\n<style scoped>\n    .dataframe tbody tr th:only-of-type {\n        vertical-align: middle;\n    }\n\n    .dataframe tbody tr th {\n        vertical-align: top;\n    }\n\n    .dataframe thead th {\n        text-align: right;\n    }\n</style>\n<table border=\"1\" class=\"dataframe\">\n  <thead>\n    <tr style=\"text-align: right;\">\n      <th></th>\n      <th>PCA1</th>\n      <th>PCA2</th>\n    </tr>\n    <tr>\n      <th>Ticker</th>\n      <th></th>\n      <th></th>\n    </tr>\n  </thead>\n  <tbody>\n    <tr>\n      <th>ARX</th>\n      <td>-2.038007</td>\n      <td>0.317998</td>\n    </tr>\n    <tr>\n      <th>CCO</th>\n      <td>-1.699675</td>\n      <td>-1.587791</td>\n    </tr>\n    <tr>\n      <th>CNQ</th>\n      <td>1.898329</td>\n      <td>1.362597</td>\n    </tr>\n    <tr>\n      <th>CVE</th>\n      <td>-2.165100</td>\n      <td>2.452486</td>\n    </tr>\n    <tr>\n      <th>CPG</th>\n      <td>-2.936099</td>\n      <td>2.841670</td>\n    </tr>\n    <tr>\n      <th>ENB</th>\n      <td>2.300575</td>\n      <td>1.016111</td>\n    </tr>\n    <tr>\n      <th>ERF</th>\n      <td>-1.704307</td>\n      <td>-0.598850</td>\n    </tr>\n    <tr>\n      <th>GEI</th>\n      <td>-0.805905</td>\n      <td>-1.888914</td>\n    </tr>\n    <tr>\n      <th>HSE</th>\n      <td>-1.058022</td>\n      <td>-0.799887</td>\n    </tr>\n    <tr>\n      <th>IMO</th>\n      <td>1.941828</td>\n      <td>-0.350603</td>\n    </tr>\n    <tr>\n      <th>IPL</th>\n      <td>-0.155885</td>\n      <td>-1.013741</td>\n    </tr>\n    <tr>\n      <th>KEY</th>\n      <td>1.097012</td>\n      <td>-0.627664</td>\n    </tr>\n    <tr>\n      <th>MEG</th>\n      <td>-3.221244</td>\n      <td>-0.637426</td>\n    </tr>\n    <tr>\n      <th>MTL</th>\n      <td>-1.285679</td>\n      <td>-1.645894</td>\n    </tr>\n    <tr>\n      <th>PXT</th>\n      <td>-1.193555</td>\n      <td>-0.756337</td>\n    </tr>\n    <tr>\n      <th>PKI</th>\n      <td>1.245587</td>\n      <td>-1.552498</td>\n    </tr>\n    <tr>\n      <th>PPL</th>\n      <td>2.525537</td>\n      <td>-0.282509</td>\n    </tr>\n    <tr>\n      <th>PSK</th>\n      <td>-0.252805</td>\n      <td>-0.306374</td>\n    </tr>\n    <tr>\n      <th>VII</th>\n      <td>-2.043631</td>\n      <td>0.177382</td>\n    </tr>\n    <tr>\n      <th>SU</th>\n      <td>2.854304</td>\n      <td>1.206931</td>\n    </tr>\n    <tr>\n      <th>TRP</th>\n      <td>3.812059</td>\n      <td>0.216139</td>\n    </tr>\n    <tr>\n      <th>TOU</th>\n      <td>3.860120</td>\n      <td>0.526909</td>\n    </tr>\n    <tr>\n      <th>VET</th>\n      <td>1.755305</td>\n      <td>0.296232</td>\n    </tr>\n    <tr>\n      <th>WCP</th>\n      <td>-2.730741</td>\n      <td>1.634031</td>\n    </tr>\n  </tbody>\n</table>\n</div>"
     },
     "execution_count": 23,
     "metadata": {},
     "output_type": "execute_result"
    }
   ],
   "source": [
    "# Creating a DataFrame with the PCA data\n",
    "df_stocks_pca = pd.DataFrame(stocks_pca_data, columns=[\"PCA1\", \"PCA2\"])\n",
    "\n",
    "# Copy the tickers names from the original data\n",
    "df_stocks_pca = pd.concat([pd.DataFrame(df_stocks_scaled.index),df_stocks_pca], axis=1)\n",
    "\n",
    "# Set the Ticker column as index\n",
    "df_stocks_pca = df_stocks_pca.set_index('Ticker')\n",
    "\n",
    "# Review the DataFrame\n",
    "df_stocks_pca"
   ]
  },
  {
   "cell_type": "markdown",
   "metadata": {},
   "source": [
    "### Step 7: Rerun the K-means algorithm with the new principal-components data, and then create a scatter plot by using the two principal components for the x and y axes, and by using `StockCluster`. Be sure to style and format your plot."
   ]
  },
  {
   "cell_type": "code",
   "execution_count": 24,
   "metadata": {
    "ExecuteTime": {
     "end_time": "2023-10-08T06:52:45.340136Z",
     "start_time": "2023-10-08T06:52:45.299943Z"
    }
   },
   "outputs": [
    {
     "name": "stdout",
     "output_type": "stream",
     "text": [
      "[1 2 0 1 1 0 2 2 2 0 2 0 1 2 2 0 0 2 1 0 0 0 0 1]\n"
     ]
    }
   ],
   "source": [
    "# Initialize the K-Means model with n_clusters=3\n",
    "model = KMeans(n_clusters=3, n_init='auto')\n",
    "\n",
    "# Fit the model for the df_stocks_pca DataFrame\n",
    "model.fit(df_stocks_pca)\n",
    "\n",
    "# Predict the model segments (clusters)\n",
    "stock_clusters = model.predict(df_stocks_pca)\n",
    "\n",
    "# View the stock segments\n",
    "print(stock_clusters)"
   ]
  },
  {
   "cell_type": "code",
   "execution_count": 26,
   "metadata": {
    "ExecuteTime": {
     "end_time": "2023-10-08T06:54:44.531963Z",
     "start_time": "2023-10-08T06:54:44.528525Z"
    }
   },
   "outputs": [
    {
     "data": {
      "text/plain": "            PCA1      PCA2  StockCluster\nTicker                                  \nARX    -2.038007  0.317998             1\nCCO    -1.699675 -1.587791             2\nCNQ     1.898329  1.362597             0\nCVE    -2.165100  2.452486             1\nCPG    -2.936099  2.841670             1\nENB     2.300575  1.016111             0\nERF    -1.704307 -0.598850             2\nGEI    -0.805905 -1.888914             2\nHSE    -1.058022 -0.799887             2\nIMO     1.941828 -0.350603             0\nIPL    -0.155885 -1.013741             2\nKEY     1.097012 -0.627664             0\nMEG    -3.221244 -0.637426             1\nMTL    -1.285679 -1.645894             2\nPXT    -1.193555 -0.756337             2\nPKI     1.245587 -1.552498             0\nPPL     2.525537 -0.282509             0\nPSK    -0.252805 -0.306374             2\nVII    -2.043631  0.177382             1\nSU      2.854304  1.206931             0\nTRP     3.812059  0.216139             0\nTOU     3.860120  0.526909             0\nVET     1.755305  0.296232             0\nWCP    -2.730741  1.634031             1",
      "text/html": "<div>\n<style scoped>\n    .dataframe tbody tr th:only-of-type {\n        vertical-align: middle;\n    }\n\n    .dataframe tbody tr th {\n        vertical-align: top;\n    }\n\n    .dataframe thead th {\n        text-align: right;\n    }\n</style>\n<table border=\"1\" class=\"dataframe\">\n  <thead>\n    <tr style=\"text-align: right;\">\n      <th></th>\n      <th>PCA1</th>\n      <th>PCA2</th>\n      <th>StockCluster</th>\n    </tr>\n    <tr>\n      <th>Ticker</th>\n      <th></th>\n      <th></th>\n      <th></th>\n    </tr>\n  </thead>\n  <tbody>\n    <tr>\n      <th>ARX</th>\n      <td>-2.038007</td>\n      <td>0.317998</td>\n      <td>1</td>\n    </tr>\n    <tr>\n      <th>CCO</th>\n      <td>-1.699675</td>\n      <td>-1.587791</td>\n      <td>2</td>\n    </tr>\n    <tr>\n      <th>CNQ</th>\n      <td>1.898329</td>\n      <td>1.362597</td>\n      <td>0</td>\n    </tr>\n    <tr>\n      <th>CVE</th>\n      <td>-2.165100</td>\n      <td>2.452486</td>\n      <td>1</td>\n    </tr>\n    <tr>\n      <th>CPG</th>\n      <td>-2.936099</td>\n      <td>2.841670</td>\n      <td>1</td>\n    </tr>\n    <tr>\n      <th>ENB</th>\n      <td>2.300575</td>\n      <td>1.016111</td>\n      <td>0</td>\n    </tr>\n    <tr>\n      <th>ERF</th>\n      <td>-1.704307</td>\n      <td>-0.598850</td>\n      <td>2</td>\n    </tr>\n    <tr>\n      <th>GEI</th>\n      <td>-0.805905</td>\n      <td>-1.888914</td>\n      <td>2</td>\n    </tr>\n    <tr>\n      <th>HSE</th>\n      <td>-1.058022</td>\n      <td>-0.799887</td>\n      <td>2</td>\n    </tr>\n    <tr>\n      <th>IMO</th>\n      <td>1.941828</td>\n      <td>-0.350603</td>\n      <td>0</td>\n    </tr>\n    <tr>\n      <th>IPL</th>\n      <td>-0.155885</td>\n      <td>-1.013741</td>\n      <td>2</td>\n    </tr>\n    <tr>\n      <th>KEY</th>\n      <td>1.097012</td>\n      <td>-0.627664</td>\n      <td>0</td>\n    </tr>\n    <tr>\n      <th>MEG</th>\n      <td>-3.221244</td>\n      <td>-0.637426</td>\n      <td>1</td>\n    </tr>\n    <tr>\n      <th>MTL</th>\n      <td>-1.285679</td>\n      <td>-1.645894</td>\n      <td>2</td>\n    </tr>\n    <tr>\n      <th>PXT</th>\n      <td>-1.193555</td>\n      <td>-0.756337</td>\n      <td>2</td>\n    </tr>\n    <tr>\n      <th>PKI</th>\n      <td>1.245587</td>\n      <td>-1.552498</td>\n      <td>0</td>\n    </tr>\n    <tr>\n      <th>PPL</th>\n      <td>2.525537</td>\n      <td>-0.282509</td>\n      <td>0</td>\n    </tr>\n    <tr>\n      <th>PSK</th>\n      <td>-0.252805</td>\n      <td>-0.306374</td>\n      <td>2</td>\n    </tr>\n    <tr>\n      <th>VII</th>\n      <td>-2.043631</td>\n      <td>0.177382</td>\n      <td>1</td>\n    </tr>\n    <tr>\n      <th>SU</th>\n      <td>2.854304</td>\n      <td>1.206931</td>\n      <td>0</td>\n    </tr>\n    <tr>\n      <th>TRP</th>\n      <td>3.812059</td>\n      <td>0.216139</td>\n      <td>0</td>\n    </tr>\n    <tr>\n      <th>TOU</th>\n      <td>3.860120</td>\n      <td>0.526909</td>\n      <td>0</td>\n    </tr>\n    <tr>\n      <th>VET</th>\n      <td>1.755305</td>\n      <td>0.296232</td>\n      <td>0</td>\n    </tr>\n    <tr>\n      <th>WCP</th>\n      <td>-2.730741</td>\n      <td>1.634031</td>\n      <td>1</td>\n    </tr>\n  </tbody>\n</table>\n</div>"
     },
     "execution_count": 26,
     "metadata": {},
     "output_type": "execute_result"
    }
   ],
   "source": [
    "# Create a copy of the df_stocks_pca DataFrame and name it as df_stocks_pca_predictions\n",
    "df_stocks_pca_predictions = df_stocks_pca.copy()\n",
    "\n",
    "# Create a new column in the DataFrame with the predicted clusters\n",
    "df_stocks_pca_predictions['StockCluster'] = stock_clusters\n",
    "\n",
    "# Review the DataFrame\n",
    "df_stocks_pca_predictions"
   ]
  },
  {
   "cell_type": "code",
   "execution_count": 27,
   "metadata": {
    "ExecuteTime": {
     "end_time": "2023-10-08T06:55:42.299727Z",
     "start_time": "2023-10-08T06:55:42.208189Z"
    }
   },
   "outputs": [
    {
     "data": {
      "text/plain": "<Axes: xlabel='PCA1', ylabel='PCA2'>"
     },
     "execution_count": 27,
     "metadata": {},
     "output_type": "execute_result"
    },
    {
     "data": {
      "text/plain": "<Figure size 640x480 with 2 Axes>",
      "image/png": "[encoded data removed]"
     },
     "metadata": {},
     "output_type": "display_data"
    }
   ],
   "source": [
    "# Create the scatter plot with x=\"PC1\" and y=\"PC2\"\n",
    "df_stocks_pca_predictions.plot.scatter(\n",
    "    x=\"PCA1\",\n",
    "    y=\"PCA2\",\n",
    "    c=\"StockCluster\",\n",
    "    colormap=\"spring\"\n",
    ")"
   ]
  },
  {
   "cell_type": "code",
   "execution_count": null,
   "metadata": {},
   "outputs": [],
   "source": []
  }
 ],
 "metadata": {
  "kernelspec": {
   "display_name": "Python 3 (ipykernel)",
   "language": "python",
   "name": "python3"
  },
  "language_info": {
   "codemirror_mode": {
    "name": "ipython",
    "version": 3
   },
   "file_extension": ".py",
   "mimetype": "text/x-python",
   "name": "python",
   "nbconvert_exporter": "python",
   "pygments_lexer": "ipython3",
   "version": "3.10.10"
  }
 },
 "nbformat": 4,
 "nbformat_minor": 4
}
