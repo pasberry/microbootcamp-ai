{
 "cells": [
  {
   "cell_type": "code",
   "execution_count": 1,
   "metadata": {
    "ExecuteTime": {
     "end_time": "2023-10-07T00:19:02.767024Z",
     "start_time": "2023-10-07T00:19:01.950113Z"
    }
   },
   "outputs": [],
   "source": [
    "# Import the required libraries and dependencies\n",
    "import pandas as pd\n",
    "from sklearn.cluster import KMeans"
   ]
  },
  {
   "cell_type": "markdown",
   "metadata": {},
   "source": [
    "### Step 1: Read in  the `option_trades.csv` file and create a DataFrame. Use the “date” column to create the DateTime Index. Be sure to include parameters for `parse_dates` and `infer_datetime_format`. "
   ]
  },
  {
   "cell_type": "code",
   "execution_count": 2,
   "metadata": {
    "ExecuteTime": {
     "end_time": "2023-10-07T00:19:10.362554Z",
     "start_time": "2023-10-07T00:19:09.592243Z"
    }
   },
   "outputs": [
    {
     "data": {
      "text/plain": "                              0           1           2           3  \\\ndate                                                                  \n2020-08-04 08:30:00  195.631965  210.025058  202.829513  221.569809   \n2020-08-04 11:00:00  218.833616  193.663638  182.807302  213.005657   \n2020-08-04 15:00:00  222.549239  200.632362  204.053803  198.749230   \n2020-08-05 08:30:00  177.901221  167.170212  178.674226  180.081992   \n2020-08-05 11:00:00  180.847294  186.696453  184.825757  180.116009   \n\n                              4           5           6           7  \\\ndate                                                                  \n2020-08-04 08:30:00  215.823048  212.112938  197.524908  214.564618   \n2020-08-04 11:00:00  194.657965  216.787274  201.662100  215.953316   \n2020-08-04 15:00:00  193.896719  201.005404  199.516591  209.182859   \n2020-08-05 08:30:00  197.030368  182.861254  182.138259  163.847409   \n2020-08-05 11:00:00  190.997511  177.779359  180.832512  173.574245   \n\n                              8           9  ...          32          33  \\\ndate                                         ...                           \n2020-08-04 08:30:00  207.460115  209.855990  ...  212.817158  201.262083   \n2020-08-04 11:00:00  201.586270  204.233793  ...  218.560756  203.906526   \n2020-08-04 15:00:00  205.425138  197.457472  ...  202.110909  219.896820   \n2020-08-05 08:30:00  175.976501  170.643134  ...  173.560308  165.625163   \n2020-08-05 11:00:00  174.426271  148.636061  ...  185.786780  171.388340   \n\n                             34          35          36          37  \\\ndate                                                                  \n2020-08-04 08:30:00  213.933774  206.132907  219.661568  204.972118   \n2020-08-04 11:00:00  196.645644  189.943663  196.537013  215.602311   \n2020-08-04 15:00:00  189.815097  198.069253  184.975622  198.668261   \n2020-08-05 08:30:00  177.090720  193.282793  187.996491  172.252274   \n2020-08-05 11:00:00  169.806288  168.503200  198.223226  183.767643   \n\n                             38          39          40          41  \ndate                                                                 \n2020-08-04 08:30:00  199.161883  194.000531  201.362749  205.688881  \n2020-08-04 11:00:00  217.919553  195.033360  202.346823  209.713289  \n2020-08-04 15:00:00  189.010191  204.879033  185.872788  196.961774  \n2020-08-05 08:30:00  183.706807  191.109464  179.242510  181.603642  \n2020-08-05 11:00:00  183.771038  203.553074  187.438263  155.905713  \n\n[5 rows x 42 columns]",
      "text/html": "<div>\n<style scoped>\n    .dataframe tbody tr th:only-of-type {\n        vertical-align: middle;\n    }\n\n    .dataframe tbody tr th {\n        vertical-align: top;\n    }\n\n    .dataframe thead th {\n        text-align: right;\n    }\n</style>\n<table border=\"1\" class=\"dataframe\">\n  <thead>\n    <tr style=\"text-align: right;\">\n      <th></th>\n      <th>0</th>\n      <th>1</th>\n      <th>2</th>\n      <th>3</th>\n      <th>4</th>\n      <th>5</th>\n      <th>6</th>\n      <th>7</th>\n      <th>8</th>\n      <th>9</th>\n      <th>...</th>\n      <th>32</th>\n      <th>33</th>\n      <th>34</th>\n      <th>35</th>\n      <th>36</th>\n      <th>37</th>\n      <th>38</th>\n      <th>39</th>\n      <th>40</th>\n      <th>41</th>\n    </tr>\n    <tr>\n      <th>date</th>\n      <th></th>\n      <th></th>\n      <th></th>\n      <th></th>\n      <th></th>\n      <th></th>\n      <th></th>\n      <th></th>\n      <th></th>\n      <th></th>\n      <th></th>\n      <th></th>\n      <th></th>\n      <th></th>\n      <th></th>\n      <th></th>\n      <th></th>\n      <th></th>\n      <th></th>\n      <th></th>\n      <th></th>\n    </tr>\n  </thead>\n  <tbody>\n    <tr>\n      <th>2020-08-04 08:30:00</th>\n      <td>195.631965</td>\n      <td>210.025058</td>\n      <td>202.829513</td>\n      <td>221.569809</td>\n      <td>215.823048</td>\n      <td>212.112938</td>\n      <td>197.524908</td>\n      <td>214.564618</td>\n      <td>207.460115</td>\n      <td>209.855990</td>\n      <td>...</td>\n      <td>212.817158</td>\n      <td>201.262083</td>\n      <td>213.933774</td>\n      <td>206.132907</td>\n      <td>219.661568</td>\n      <td>204.972118</td>\n      <td>199.161883</td>\n      <td>194.000531</td>\n      <td>201.362749</td>\n      <td>205.688881</td>\n    </tr>\n    <tr>\n      <th>2020-08-04 11:00:00</th>\n      <td>218.833616</td>\n      <td>193.663638</td>\n      <td>182.807302</td>\n      <td>213.005657</td>\n      <td>194.657965</td>\n      <td>216.787274</td>\n      <td>201.662100</td>\n      <td>215.953316</td>\n      <td>201.586270</td>\n      <td>204.233793</td>\n      <td>...</td>\n      <td>218.560756</td>\n      <td>203.906526</td>\n      <td>196.645644</td>\n      <td>189.943663</td>\n      <td>196.537013</td>\n      <td>215.602311</td>\n      <td>217.919553</td>\n      <td>195.033360</td>\n      <td>202.346823</td>\n      <td>209.713289</td>\n    </tr>\n    <tr>\n      <th>2020-08-04 15:00:00</th>\n      <td>222.549239</td>\n      <td>200.632362</td>\n      <td>204.053803</td>\n      <td>198.749230</td>\n      <td>193.896719</td>\n      <td>201.005404</td>\n      <td>199.516591</td>\n      <td>209.182859</td>\n      <td>205.425138</td>\n      <td>197.457472</td>\n      <td>...</td>\n      <td>202.110909</td>\n      <td>219.896820</td>\n      <td>189.815097</td>\n      <td>198.069253</td>\n      <td>184.975622</td>\n      <td>198.668261</td>\n      <td>189.010191</td>\n      <td>204.879033</td>\n      <td>185.872788</td>\n      <td>196.961774</td>\n    </tr>\n    <tr>\n      <th>2020-08-05 08:30:00</th>\n      <td>177.901221</td>\n      <td>167.170212</td>\n      <td>178.674226</td>\n      <td>180.081992</td>\n      <td>197.030368</td>\n      <td>182.861254</td>\n      <td>182.138259</td>\n      <td>163.847409</td>\n      <td>175.976501</td>\n      <td>170.643134</td>\n      <td>...</td>\n      <td>173.560308</td>\n      <td>165.625163</td>\n      <td>177.090720</td>\n      <td>193.282793</td>\n      <td>187.996491</td>\n      <td>172.252274</td>\n      <td>183.706807</td>\n      <td>191.109464</td>\n      <td>179.242510</td>\n      <td>181.603642</td>\n    </tr>\n    <tr>\n      <th>2020-08-05 11:00:00</th>\n      <td>180.847294</td>\n      <td>186.696453</td>\n      <td>184.825757</td>\n      <td>180.116009</td>\n      <td>190.997511</td>\n      <td>177.779359</td>\n      <td>180.832512</td>\n      <td>173.574245</td>\n      <td>174.426271</td>\n      <td>148.636061</td>\n      <td>...</td>\n      <td>185.786780</td>\n      <td>171.388340</td>\n      <td>169.806288</td>\n      <td>168.503200</td>\n      <td>198.223226</td>\n      <td>183.767643</td>\n      <td>183.771038</td>\n      <td>203.553074</td>\n      <td>187.438263</td>\n      <td>155.905713</td>\n    </tr>\n  </tbody>\n</table>\n<p>5 rows × 42 columns</p>\n</div>"
     },
     "execution_count": 2,
     "metadata": {},
     "output_type": "execute_result"
    }
   ],
   "source": [
    "# Read the CSV file into a Pandas DataFrame\n",
    "# Use the date column to create the DateTime Index\n",
    "df_options = pd.read_csv(\"https://static.bc-edx.com/mbc/ai/m2/datasets/option-trades.csv\", \n",
    "                         index_col=\"date\", \n",
    "                         parse_dates=True, \n",
    "                         infer_datetime_format=True\n",
    "                        )\n",
    "\n",
    "# Review the DataFrame\n",
    "df_options.head()"
   ]
  },
  {
   "cell_type": "markdown",
   "metadata": {},
   "source": [
    "### Step 2: Create two lists: one for the range of lowercase-k values (from 1 to 11) to analyze and another to hold the list of inertia scores."
   ]
  },
  {
   "cell_type": "code",
   "execution_count": 3,
   "metadata": {
    "ExecuteTime": {
     "end_time": "2023-10-07T00:20:34.399090Z",
     "start_time": "2023-10-07T00:20:34.396248Z"
    }
   },
   "outputs": [],
   "source": [
    "# Create a list for the range of k's to analyze in the elbow plot\n",
    "# The range should be 1 to 11. \n",
    "k = list(range(1, 11))"
   ]
  },
  {
   "cell_type": "code",
   "execution_count": 4,
   "metadata": {
    "ExecuteTime": {
     "end_time": "2023-10-07T00:20:35.390946Z",
     "start_time": "2023-10-07T00:20:35.382103Z"
    }
   },
   "outputs": [],
   "source": [
    "# Create an empty list to hold inertia scores\n",
    "inertia = []"
   ]
  },
  {
   "cell_type": "markdown",
   "metadata": {},
   "source": [
    "### Step 3: For each instance of k, define and fit a K-means model, and append the model’s inertia to the empty inertia list that you created in Step 2."
   ]
  },
  {
   "cell_type": "code",
   "execution_count": 5,
   "metadata": {
    "ExecuteTime": {
     "end_time": "2023-10-07T00:30:54.923040Z",
     "start_time": "2023-10-07T00:30:54.857556Z"
    }
   },
   "outputs": [
    {
     "name": "stdout",
     "output_type": "stream",
     "text": [
      "[10804651.95737489, 3367798.734774582, 1660546.9227245785, 1247512.1525326867, 935993.9614695732, 886000.9786473952, 764051.2987605655, 669139.5019545503, 615813.971219131, 579500.9201967735]\n"
     ]
    }
   ],
   "source": [
    "# For each k, define and fit a K-means model and append its inertia to the above list\n",
    "for i in k:\n",
    "    model = KMeans(n_clusters=i, n_init='auto', random_state=1)\n",
    "    model.fit(df_options)\n",
    "    inertia.append(model.inertia_)\n",
    "    \n",
    "# View the inertia list\n",
    "print(inertia)"
   ]
  },
  {
   "cell_type": "markdown",
   "metadata": {},
   "source": [
    "### Step 4: Store the values for lowercase-k and the inertia lists in a DataFrame called `df_elbow_data`."
   ]
  },
  {
   "cell_type": "code",
   "execution_count": 7,
   "metadata": {
    "ExecuteTime": {
     "end_time": "2023-10-07T00:33:04.327259Z",
     "start_time": "2023-10-07T00:33:04.324758Z"
    }
   },
   "outputs": [],
   "source": [
    "# Create a dictionary with the data to plot the Elbow curve\n",
    "elbow_data = {\n",
    "    \"k\" : k,\n",
    "    \"inertia\" : inertia\n",
    "}\n"
   ]
  },
  {
   "cell_type": "code",
   "execution_count": 8,
   "metadata": {
    "ExecuteTime": {
     "end_time": "2023-10-07T00:33:07.703888Z",
     "start_time": "2023-10-07T00:33:07.697678Z"
    }
   },
   "outputs": [],
   "source": [
    "# Create a DataFrame from the dictionary holding the values for k and inertia.\n",
    "df_elbow_data = pd.DataFrame(elbow_data)"
   ]
  },
  {
   "cell_type": "markdown",
   "metadata": {},
   "source": [
    "### Step 5:  Using Pandas plot, plot the `df_elbow_data` DataFrame to visualize the elbow curve. Be sure to style and format your plot."
   ]
  },
  {
   "cell_type": "code",
   "execution_count": 9,
   "metadata": {
    "ExecuteTime": {
     "end_time": "2023-10-07T01:06:46.796632Z",
     "start_time": "2023-10-07T01:06:46.446306Z"
    }
   },
   "outputs": [
    {
     "data": {
      "text/plain": "<Axes: title={'center': 'Elbow Curve'}, xlabel='k'>"
     },
     "execution_count": 9,
     "metadata": {},
     "output_type": "execute_result"
    },
    {
     "data": {
      "text/plain": "<Figure size 640x480 with 1 Axes>",
      "image/png": "[encoded data removed]"
     },
     "metadata": {},
     "output_type": "display_data"
    }
   ],
   "source": [
    "# Plot the elbow curve using hvPlot.\n",
    "df_elbow_data.plot.line(\n",
    "    x=\"k\",\n",
    "    y=\"inertia\",\n",
    "    title=\"Elbow Curve\",\n",
    "    xticks=k)"
   ]
  },
  {
   "cell_type": "code",
   "execution_count": 10,
   "outputs": [
    {
     "name": "stdout",
     "output_type": "stream",
     "text": [
      "Percentage decrease from k=1 to k=2: 68.83%\n",
      "Percentage decrease from k=2 to k=3: 50.69%\n",
      "Percentage decrease from k=3 to k=4: 24.87%\n",
      "Percentage decrease from k=4 to k=5: 24.97%\n",
      "Percentage decrease from k=5 to k=6: 5.34%\n",
      "Percentage decrease from k=6 to k=7: 13.76%\n",
      "Percentage decrease from k=7 to k=8: 12.42%\n",
      "Percentage decrease from k=8 to k=9: 7.97%\n",
      "Percentage decrease from k=9 to k=10: 5.90%\n"
     ]
    }
   ],
   "source": [
    "# Determine the rate of decrease between each k value.\n",
    "k = df_elbow_data[\"k\"]\n",
    "inertia = elbow_data[\"inertia\"]\n",
    "for i in range(1, len(k)):\n",
    "    percentage_decrease = (inertia[i-1] - inertia[i]) / inertia[i-1] * 100\n",
    "    print(f\"Percentage decrease from k={k[i-1]} to k={k[i]}: {percentage_decrease:.2f}%\")"
   ],
   "metadata": {
    "collapsed": false,
    "ExecuteTime": {
     "end_time": "2023-10-07T01:08:42.204406Z",
     "start_time": "2023-10-07T01:08:42.198214Z"
    }
   }
  },
  {
   "cell_type": "code",
   "execution_count": null,
   "outputs": [],
   "source": [],
   "metadata": {
    "collapsed": false
   }
  },
  {
   "cell_type": "markdown",
   "metadata": {},
   "source": [
    "### Step 6: Answer the following question:"
   ]
  },
  {
   "cell_type": "markdown",
   "metadata": {},
   "source": [
    "**Question** Considering the plot, what’s the best number of clusters to choose, or value of k?\n",
    "\n",
    "**Answer** "
   ]
  },
  {
   "cell_type": "code",
   "execution_count": 11,
   "metadata": {
    "ExecuteTime": {
     "end_time": "2023-10-07T01:09:30.912500Z",
     "start_time": "2023-10-07T01:09:30.907760Z"
    }
   },
   "outputs": [
    {
     "data": {
      "text/plain": "2"
     },
     "execution_count": 11,
     "metadata": {},
     "output_type": "execute_result"
    }
   ],
   "source": [
    "2"
   ]
  },
  {
   "cell_type": "code",
   "execution_count": null,
   "outputs": [],
   "source": [],
   "metadata": {
    "collapsed": false
   }
  }
 ],
 "metadata": {
  "kernelspec": {
   "display_name": "Python 3 (ipykernel)",
   "language": "python",
   "name": "python3"
  },
  "language_info": {
   "codemirror_mode": {
    "name": "ipython",
    "version": 3
   },
   "file_extension": ".py",
   "mimetype": "text/x-python",
   "name": "python",
   "nbconvert_exporter": "python",
   "pygments_lexer": "ipython3",
   "version": "3.10.10"
  }
 },
 "nbformat": 4,
 "nbformat_minor": 4
}
