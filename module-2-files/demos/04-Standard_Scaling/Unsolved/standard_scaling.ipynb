{
 "cells": [
  {
   "cell_type": "code",
   "execution_count": 1,
   "metadata": {
    "ExecuteTime": {
     "end_time": "2023-10-07T13:52:45.048426Z",
     "start_time": "2023-10-07T13:52:44.224326Z"
    }
   },
   "outputs": [],
   "source": [
    "# Initial imports\n",
    "import pandas as pd\n",
    "from sklearn.preprocessing import StandardScaler"
   ]
  },
  {
   "cell_type": "markdown",
   "metadata": {},
   "source": [
    "## Loading Original Shopping Data into Pandas\n"
   ]
  },
  {
   "cell_type": "code",
   "execution_count": 2,
   "metadata": {
    "ExecuteTime": {
     "end_time": "2023-10-07T13:52:55.196005Z",
     "start_time": "2023-10-07T13:52:54.531306Z"
    }
   },
   "outputs": [
    {
     "data": {
      "text/plain": "  Card Type  Age  Annual Income  Spending Score\n0    Credit   19          15000              39\n1    Credit   21          15000              81\n2     Debit   20          16000               6\n3     Debit   23          16000              77\n4     Debit   31          17000              40",
      "text/html": "<div>\n<style scoped>\n    .dataframe tbody tr th:only-of-type {\n        vertical-align: middle;\n    }\n\n    .dataframe tbody tr th {\n        vertical-align: top;\n    }\n\n    .dataframe thead th {\n        text-align: right;\n    }\n</style>\n<table border=\"1\" class=\"dataframe\">\n  <thead>\n    <tr style=\"text-align: right;\">\n      <th></th>\n      <th>Card Type</th>\n      <th>Age</th>\n      <th>Annual Income</th>\n      <th>Spending Score</th>\n    </tr>\n  </thead>\n  <tbody>\n    <tr>\n      <th>0</th>\n      <td>Credit</td>\n      <td>19</td>\n      <td>15000</td>\n      <td>39</td>\n    </tr>\n    <tr>\n      <th>1</th>\n      <td>Credit</td>\n      <td>21</td>\n      <td>15000</td>\n      <td>81</td>\n    </tr>\n    <tr>\n      <th>2</th>\n      <td>Debit</td>\n      <td>20</td>\n      <td>16000</td>\n      <td>6</td>\n    </tr>\n    <tr>\n      <th>3</th>\n      <td>Debit</td>\n      <td>23</td>\n      <td>16000</td>\n      <td>77</td>\n    </tr>\n    <tr>\n      <th>4</th>\n      <td>Debit</td>\n      <td>31</td>\n      <td>17000</td>\n      <td>40</td>\n    </tr>\n  </tbody>\n</table>\n</div>"
     },
     "execution_count": 2,
     "metadata": {},
     "output_type": "execute_result"
    }
   ],
   "source": [
    "# Load data into a Pandas DataFrame\n",
    "df_shopping = pd.read_csv(\"https://static.bc-edx.com/mbc/ai/m2/datasets/shopping-data.csv\")\n",
    "\n",
    "# Drop the CustomerID column\n",
    "df_shopping = df_shopping.drop(columns=[\"CustomerID\"])\n",
    "\n",
    "# Display sample data\n",
    "df_shopping.head()"
   ]
  },
  {
   "cell_type": "markdown",
   "metadata": {},
   "source": [
    "## Scaling the Numeric Columns"
   ]
  },
  {
   "cell_type": "code",
   "execution_count": 4,
   "metadata": {
    "ExecuteTime": {
     "end_time": "2023-10-07T13:53:47.797204Z",
     "start_time": "2023-10-07T13:53:47.783113Z"
    }
   },
   "outputs": [
    {
     "data": {
      "text/plain": "        Age  Annual Income  Spending Score\n0 -1.424569      -1.738999       -0.434801\n1 -1.281035      -1.738999        1.195704\n2 -1.352802      -1.700830       -1.715913\n3 -1.137502      -1.700830        1.040418\n4 -0.563369      -1.662660       -0.395980",
      "text/html": "<div>\n<style scoped>\n    .dataframe tbody tr th:only-of-type {\n        vertical-align: middle;\n    }\n\n    .dataframe tbody tr th {\n        vertical-align: top;\n    }\n\n    .dataframe thead th {\n        text-align: right;\n    }\n</style>\n<table border=\"1\" class=\"dataframe\">\n  <thead>\n    <tr style=\"text-align: right;\">\n      <th></th>\n      <th>Age</th>\n      <th>Annual Income</th>\n      <th>Spending Score</th>\n    </tr>\n  </thead>\n  <tbody>\n    <tr>\n      <th>0</th>\n      <td>-1.424569</td>\n      <td>-1.738999</td>\n      <td>-0.434801</td>\n    </tr>\n    <tr>\n      <th>1</th>\n      <td>-1.281035</td>\n      <td>-1.738999</td>\n      <td>1.195704</td>\n    </tr>\n    <tr>\n      <th>2</th>\n      <td>-1.352802</td>\n      <td>-1.700830</td>\n      <td>-1.715913</td>\n    </tr>\n    <tr>\n      <th>3</th>\n      <td>-1.137502</td>\n      <td>-1.700830</td>\n      <td>1.040418</td>\n    </tr>\n    <tr>\n      <th>4</th>\n      <td>-0.563369</td>\n      <td>-1.662660</td>\n      <td>-0.395980</td>\n    </tr>\n  </tbody>\n</table>\n</div>"
     },
     "execution_count": 4,
     "metadata": {},
     "output_type": "execute_result"
    }
   ],
   "source": [
    "# Scaling the numeric columns\n",
    "shopping_data_scaled = StandardScaler().fit_transform(df_shopping[[\"Age\", \"Annual Income\", \"Spending Score\"]])\n",
    "\n",
    "# Creating a DataFrame with with the scaled data\n",
    "df_shopping_transformed = pd.DataFrame(shopping_data_scaled, columns=[\"Age\", \"Annual Income\", \"Spending Score\"])\n",
    "                                  \n",
    "# Display sample data\n",
    "df_shopping_transformed.head()"
   ]
  },
  {
   "cell_type": "markdown",
   "metadata": {},
   "source": [
    "## Transforming the `Card Type` Column using `get_dummies()`"
   ]
  },
  {
   "cell_type": "code",
   "execution_count": 5,
   "metadata": {
    "ExecuteTime": {
     "end_time": "2023-10-07T13:54:12.669323Z",
     "start_time": "2023-10-07T13:54:12.661273Z"
    }
   },
   "outputs": [
    {
     "data": {
      "text/plain": "   Credit  Debit\n0       1      0\n1       1      0\n2       0      1\n3       0      1\n4       0      1",
      "text/html": "<div>\n<style scoped>\n    .dataframe tbody tr th:only-of-type {\n        vertical-align: middle;\n    }\n\n    .dataframe tbody tr th {\n        vertical-align: top;\n    }\n\n    .dataframe thead th {\n        text-align: right;\n    }\n</style>\n<table border=\"1\" class=\"dataframe\">\n  <thead>\n    <tr style=\"text-align: right;\">\n      <th></th>\n      <th>Credit</th>\n      <th>Debit</th>\n    </tr>\n  </thead>\n  <tbody>\n    <tr>\n      <th>0</th>\n      <td>1</td>\n      <td>0</td>\n    </tr>\n    <tr>\n      <th>1</th>\n      <td>1</td>\n      <td>0</td>\n    </tr>\n    <tr>\n      <th>2</th>\n      <td>0</td>\n      <td>1</td>\n    </tr>\n    <tr>\n      <th>3</th>\n      <td>0</td>\n      <td>1</td>\n    </tr>\n    <tr>\n      <th>4</th>\n      <td>0</td>\n      <td>1</td>\n    </tr>\n  </tbody>\n</table>\n</div>"
     },
     "execution_count": 5,
     "metadata": {},
     "output_type": "execute_result"
    }
   ],
   "source": [
    "# Transform the Card Type column using get_dummies()\n",
    "card_dummies = pd.get_dummies(df_shopping[\"Card Type\"])\n",
    "\n",
    "# Display sample data\n",
    "card_dummies.head()"
   ]
  },
  {
   "cell_type": "markdown",
   "metadata": {},
   "source": [
    "## Concatenating All the Transformed Data into a Single DataFrame"
   ]
  },
  {
   "cell_type": "code",
   "execution_count": 7,
   "metadata": {
    "ExecuteTime": {
     "end_time": "2023-10-07T13:55:41.893595Z",
     "start_time": "2023-10-07T13:55:41.890619Z"
    }
   },
   "outputs": [
    {
     "data": {
      "text/plain": "         Age  Annual Income  Spending Score  Credit  Debit  Credit  Debit\n0  -1.424569      -1.738999       -0.434801       1      0       1      0\n1  -1.281035      -1.738999        1.195704       1      0       1      0\n2  -1.352802      -1.700830       -1.715913       0      1       0      1\n3  -1.137502      -1.700830        1.040418       0      1       0      1\n4  -0.563369      -1.662660       -0.395980       0      1       0      1\n..       ...            ...             ...     ...    ...     ...    ...\n95 -1.065735      -0.021375        0.069879       1      0       1      0\n96  0.584899      -0.021375       -0.124229       0      1       0      1\n97 -0.850435      -0.021375       -0.007764       0      1       0      1\n98  0.656665       0.016795       -0.318337       1      0       1      0\n99 -1.352802       0.016795       -0.046586       1      0       1      0\n\n[100 rows x 7 columns]",
      "text/html": "<div>\n<style scoped>\n    .dataframe tbody tr th:only-of-type {\n        vertical-align: middle;\n    }\n\n    .dataframe tbody tr th {\n        vertical-align: top;\n    }\n\n    .dataframe thead th {\n        text-align: right;\n    }\n</style>\n<table border=\"1\" class=\"dataframe\">\n  <thead>\n    <tr style=\"text-align: right;\">\n      <th></th>\n      <th>Age</th>\n      <th>Annual Income</th>\n      <th>Spending Score</th>\n      <th>Credit</th>\n      <th>Debit</th>\n      <th>Credit</th>\n      <th>Debit</th>\n    </tr>\n  </thead>\n  <tbody>\n    <tr>\n      <th>0</th>\n      <td>-1.424569</td>\n      <td>-1.738999</td>\n      <td>-0.434801</td>\n      <td>1</td>\n      <td>0</td>\n      <td>1</td>\n      <td>0</td>\n    </tr>\n    <tr>\n      <th>1</th>\n      <td>-1.281035</td>\n      <td>-1.738999</td>\n      <td>1.195704</td>\n      <td>1</td>\n      <td>0</td>\n      <td>1</td>\n      <td>0</td>\n    </tr>\n    <tr>\n      <th>2</th>\n      <td>-1.352802</td>\n      <td>-1.700830</td>\n      <td>-1.715913</td>\n      <td>0</td>\n      <td>1</td>\n      <td>0</td>\n      <td>1</td>\n    </tr>\n    <tr>\n      <th>3</th>\n      <td>-1.137502</td>\n      <td>-1.700830</td>\n      <td>1.040418</td>\n      <td>0</td>\n      <td>1</td>\n      <td>0</td>\n      <td>1</td>\n    </tr>\n    <tr>\n      <th>4</th>\n      <td>-0.563369</td>\n      <td>-1.662660</td>\n      <td>-0.395980</td>\n      <td>0</td>\n      <td>1</td>\n      <td>0</td>\n      <td>1</td>\n    </tr>\n    <tr>\n      <th>...</th>\n      <td>...</td>\n      <td>...</td>\n      <td>...</td>\n      <td>...</td>\n      <td>...</td>\n      <td>...</td>\n      <td>...</td>\n    </tr>\n    <tr>\n      <th>95</th>\n      <td>-1.065735</td>\n      <td>-0.021375</td>\n      <td>0.069879</td>\n      <td>1</td>\n      <td>0</td>\n      <td>1</td>\n      <td>0</td>\n    </tr>\n    <tr>\n      <th>96</th>\n      <td>0.584899</td>\n      <td>-0.021375</td>\n      <td>-0.124229</td>\n      <td>0</td>\n      <td>1</td>\n      <td>0</td>\n      <td>1</td>\n    </tr>\n    <tr>\n      <th>97</th>\n      <td>-0.850435</td>\n      <td>-0.021375</td>\n      <td>-0.007764</td>\n      <td>0</td>\n      <td>1</td>\n      <td>0</td>\n      <td>1</td>\n    </tr>\n    <tr>\n      <th>98</th>\n      <td>0.656665</td>\n      <td>0.016795</td>\n      <td>-0.318337</td>\n      <td>1</td>\n      <td>0</td>\n      <td>1</td>\n      <td>0</td>\n    </tr>\n    <tr>\n      <th>99</th>\n      <td>-1.352802</td>\n      <td>0.016795</td>\n      <td>-0.046586</td>\n      <td>1</td>\n      <td>0</td>\n      <td>1</td>\n      <td>0</td>\n    </tr>\n  </tbody>\n</table>\n<p>100 rows × 7 columns</p>\n</div>"
     },
     "execution_count": 7,
     "metadata": {},
     "output_type": "execute_result"
    }
   ],
   "source": [
    "# Concatenate the df_shopping_transformed and the card_dummies DataFrames\n",
    "df_shopping_transformed = pd.concat([df_shopping_transformed, card_dummies], axis=1)\n",
    "\n",
    "# Display sample data\n",
    "df_shopping_transformed.head(100)"
   ]
  },
  {
   "cell_type": "code",
   "execution_count": null,
   "metadata": {},
   "outputs": [],
   "source": []
  }
 ],
 "metadata": {
  "kernelspec": {
   "display_name": "Python 3 (ipykernel)",
   "language": "python",
   "name": "python3"
  },
  "language_info": {
   "codemirror_mode": {
    "name": "ipython",
    "version": 3
   },
   "file_extension": ".py",
   "mimetype": "text/x-python",
   "name": "python",
   "nbconvert_exporter": "python",
   "pygments_lexer": "ipython3",
   "version": "3.10.10"
  }
 },
 "nbformat": 4,
 "nbformat_minor": 4
}
