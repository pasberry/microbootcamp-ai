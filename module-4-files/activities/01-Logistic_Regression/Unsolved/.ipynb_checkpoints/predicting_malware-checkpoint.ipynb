{
 "cells": [
  {
   "cell_type": "markdown",
   "metadata": {},
   "source": [
    "# Predicting Malware\n",
    "\n",
    "## Reference:\n",
    "\n",
    "Mathur,Akshay & Mathur,Akshay. (2022). [NATICUSdroid (Android Permissions) Dataset](https://archive-beta.ics.uci.edu/dataset/722/naticusdroid+android+permissions+dataset). UCI Machine Learning Repository."
   ]
  },
  {
   "cell_type": "code",
   "execution_count": 2,
   "metadata": {
    "ExecuteTime": {
     "end_time": "2023-10-22T21:34:51.465287Z",
     "start_time": "2023-10-22T21:34:50.571130Z"
    }
   },
   "outputs": [],
   "source": [
    "# Import the required modules\n",
    "import pandas as pd\n",
    "from sklearn.model_selection import train_test_split\n",
    "from sklearn.metrics import accuracy_score\n",
    "from sklearn.linear_model import LogisticRegression"
   ]
  },
  {
   "cell_type": "markdown",
   "metadata": {},
   "source": [
    "## Prepare the Data"
   ]
  },
  {
   "cell_type": "code",
   "execution_count": 3,
   "metadata": {
    "ExecuteTime": {
     "end_time": "2023-10-22T22:35:27.874149Z",
     "start_time": "2023-10-22T22:35:26.832507Z"
    }
   },
   "outputs": [
    {
     "data": {
      "text/html": [
       "<div>\n",
       "<style scoped>\n",
       "    .dataframe tbody tr th:only-of-type {\n",
       "        vertical-align: middle;\n",
       "    }\n",
       "\n",
       "    .dataframe tbody tr th {\n",
       "        vertical-align: top;\n",
       "    }\n",
       "\n",
       "    .dataframe thead th {\n",
       "        text-align: right;\n",
       "    }\n",
       "</style>\n",
       "<table border=\"1\" class=\"dataframe\">\n",
       "  <thead>\n",
       "    <tr style=\"text-align: right;\">\n",
       "      <th></th>\n",
       "      <th>android.permission.GET_ACCOUNTS</th>\n",
       "      <th>com.sonyericsson.home.permission.BROADCAST_BADGE</th>\n",
       "      <th>android.permission.READ_PROFILE</th>\n",
       "      <th>android.permission.MANAGE_ACCOUNTS</th>\n",
       "      <th>android.permission.WRITE_SYNC_SETTINGS</th>\n",
       "      <th>android.permission.READ_EXTERNAL_STORAGE</th>\n",
       "      <th>android.permission.RECEIVE_SMS</th>\n",
       "      <th>com.android.launcher.permission.READ_SETTINGS</th>\n",
       "      <th>android.permission.WRITE_SETTINGS</th>\n",
       "      <th>com.google.android.providers.gsf.permission.READ_GSERVICES</th>\n",
       "      <th>...</th>\n",
       "      <th>com.android.launcher.permission.UNINSTALL_SHORTCUT</th>\n",
       "      <th>com.sec.android.iap.permission.BILLING</th>\n",
       "      <th>com.htc.launcher.permission.UPDATE_SHORTCUT</th>\n",
       "      <th>com.sec.android.provider.badge.permission.WRITE</th>\n",
       "      <th>android.permission.ACCESS_NETWORK_STATE</th>\n",
       "      <th>com.google.android.finsky.permission.BIND_GET_INSTALL_REFERRER_SERVICE</th>\n",
       "      <th>com.huawei.android.launcher.permission.READ_SETTINGS</th>\n",
       "      <th>android.permission.READ_SMS</th>\n",
       "      <th>android.permission.PROCESS_INCOMING_CALLS</th>\n",
       "      <th>Result</th>\n",
       "    </tr>\n",
       "  </thead>\n",
       "  <tbody>\n",
       "    <tr>\n",
       "      <th>0</th>\n",
       "      <td>0</td>\n",
       "      <td>0</td>\n",
       "      <td>0</td>\n",
       "      <td>0</td>\n",
       "      <td>0</td>\n",
       "      <td>0</td>\n",
       "      <td>0</td>\n",
       "      <td>0</td>\n",
       "      <td>0</td>\n",
       "      <td>0</td>\n",
       "      <td>...</td>\n",
       "      <td>0</td>\n",
       "      <td>0</td>\n",
       "      <td>0</td>\n",
       "      <td>0</td>\n",
       "      <td>0</td>\n",
       "      <td>0</td>\n",
       "      <td>0</td>\n",
       "      <td>0</td>\n",
       "      <td>0</td>\n",
       "      <td>0</td>\n",
       "    </tr>\n",
       "    <tr>\n",
       "      <th>1</th>\n",
       "      <td>0</td>\n",
       "      <td>0</td>\n",
       "      <td>0</td>\n",
       "      <td>0</td>\n",
       "      <td>0</td>\n",
       "      <td>1</td>\n",
       "      <td>0</td>\n",
       "      <td>0</td>\n",
       "      <td>0</td>\n",
       "      <td>0</td>\n",
       "      <td>...</td>\n",
       "      <td>0</td>\n",
       "      <td>0</td>\n",
       "      <td>0</td>\n",
       "      <td>0</td>\n",
       "      <td>1</td>\n",
       "      <td>0</td>\n",
       "      <td>0</td>\n",
       "      <td>0</td>\n",
       "      <td>0</td>\n",
       "      <td>0</td>\n",
       "    </tr>\n",
       "    <tr>\n",
       "      <th>2</th>\n",
       "      <td>0</td>\n",
       "      <td>0</td>\n",
       "      <td>0</td>\n",
       "      <td>0</td>\n",
       "      <td>0</td>\n",
       "      <td>0</td>\n",
       "      <td>0</td>\n",
       "      <td>0</td>\n",
       "      <td>0</td>\n",
       "      <td>0</td>\n",
       "      <td>...</td>\n",
       "      <td>0</td>\n",
       "      <td>0</td>\n",
       "      <td>0</td>\n",
       "      <td>0</td>\n",
       "      <td>1</td>\n",
       "      <td>0</td>\n",
       "      <td>0</td>\n",
       "      <td>0</td>\n",
       "      <td>0</td>\n",
       "      <td>0</td>\n",
       "    </tr>\n",
       "    <tr>\n",
       "      <th>3</th>\n",
       "      <td>0</td>\n",
       "      <td>0</td>\n",
       "      <td>0</td>\n",
       "      <td>0</td>\n",
       "      <td>0</td>\n",
       "      <td>0</td>\n",
       "      <td>0</td>\n",
       "      <td>0</td>\n",
       "      <td>0</td>\n",
       "      <td>0</td>\n",
       "      <td>...</td>\n",
       "      <td>0</td>\n",
       "      <td>0</td>\n",
       "      <td>0</td>\n",
       "      <td>0</td>\n",
       "      <td>1</td>\n",
       "      <td>0</td>\n",
       "      <td>0</td>\n",
       "      <td>0</td>\n",
       "      <td>0</td>\n",
       "      <td>0</td>\n",
       "    </tr>\n",
       "    <tr>\n",
       "      <th>4</th>\n",
       "      <td>0</td>\n",
       "      <td>0</td>\n",
       "      <td>0</td>\n",
       "      <td>0</td>\n",
       "      <td>0</td>\n",
       "      <td>0</td>\n",
       "      <td>0</td>\n",
       "      <td>0</td>\n",
       "      <td>0</td>\n",
       "      <td>0</td>\n",
       "      <td>...</td>\n",
       "      <td>0</td>\n",
       "      <td>0</td>\n",
       "      <td>0</td>\n",
       "      <td>0</td>\n",
       "      <td>1</td>\n",
       "      <td>1</td>\n",
       "      <td>0</td>\n",
       "      <td>0</td>\n",
       "      <td>0</td>\n",
       "      <td>0</td>\n",
       "    </tr>\n",
       "  </tbody>\n",
       "</table>\n",
       "<p>5 rows × 87 columns</p>\n",
       "</div>"
      ],
      "text/plain": [
       "   android.permission.GET_ACCOUNTS  \\\n",
       "0                                0   \n",
       "1                                0   \n",
       "2                                0   \n",
       "3                                0   \n",
       "4                                0   \n",
       "\n",
       "   com.sonyericsson.home.permission.BROADCAST_BADGE  \\\n",
       "0                                                 0   \n",
       "1                                                 0   \n",
       "2                                                 0   \n",
       "3                                                 0   \n",
       "4                                                 0   \n",
       "\n",
       "   android.permission.READ_PROFILE  android.permission.MANAGE_ACCOUNTS  \\\n",
       "0                                0                                   0   \n",
       "1                                0                                   0   \n",
       "2                                0                                   0   \n",
       "3                                0                                   0   \n",
       "4                                0                                   0   \n",
       "\n",
       "   android.permission.WRITE_SYNC_SETTINGS  \\\n",
       "0                                       0   \n",
       "1                                       0   \n",
       "2                                       0   \n",
       "3                                       0   \n",
       "4                                       0   \n",
       "\n",
       "   android.permission.READ_EXTERNAL_STORAGE  android.permission.RECEIVE_SMS  \\\n",
       "0                                         0                               0   \n",
       "1                                         1                               0   \n",
       "2                                         0                               0   \n",
       "3                                         0                               0   \n",
       "4                                         0                               0   \n",
       "\n",
       "   com.android.launcher.permission.READ_SETTINGS  \\\n",
       "0                                              0   \n",
       "1                                              0   \n",
       "2                                              0   \n",
       "3                                              0   \n",
       "4                                              0   \n",
       "\n",
       "   android.permission.WRITE_SETTINGS  \\\n",
       "0                                  0   \n",
       "1                                  0   \n",
       "2                                  0   \n",
       "3                                  0   \n",
       "4                                  0   \n",
       "\n",
       "   com.google.android.providers.gsf.permission.READ_GSERVICES  ...  \\\n",
       "0                                                  0           ...   \n",
       "1                                                  0           ...   \n",
       "2                                                  0           ...   \n",
       "3                                                  0           ...   \n",
       "4                                                  0           ...   \n",
       "\n",
       "   com.android.launcher.permission.UNINSTALL_SHORTCUT  \\\n",
       "0                                                  0    \n",
       "1                                                  0    \n",
       "2                                                  0    \n",
       "3                                                  0    \n",
       "4                                                  0    \n",
       "\n",
       "   com.sec.android.iap.permission.BILLING  \\\n",
       "0                                       0   \n",
       "1                                       0   \n",
       "2                                       0   \n",
       "3                                       0   \n",
       "4                                       0   \n",
       "\n",
       "   com.htc.launcher.permission.UPDATE_SHORTCUT  \\\n",
       "0                                            0   \n",
       "1                                            0   \n",
       "2                                            0   \n",
       "3                                            0   \n",
       "4                                            0   \n",
       "\n",
       "   com.sec.android.provider.badge.permission.WRITE  \\\n",
       "0                                                0   \n",
       "1                                                0   \n",
       "2                                                0   \n",
       "3                                                0   \n",
       "4                                                0   \n",
       "\n",
       "   android.permission.ACCESS_NETWORK_STATE  \\\n",
       "0                                        0   \n",
       "1                                        1   \n",
       "2                                        1   \n",
       "3                                        1   \n",
       "4                                        1   \n",
       "\n",
       "   com.google.android.finsky.permission.BIND_GET_INSTALL_REFERRER_SERVICE  \\\n",
       "0                                                  0                        \n",
       "1                                                  0                        \n",
       "2                                                  0                        \n",
       "3                                                  0                        \n",
       "4                                                  1                        \n",
       "\n",
       "   com.huawei.android.launcher.permission.READ_SETTINGS  \\\n",
       "0                                                  0      \n",
       "1                                                  0      \n",
       "2                                                  0      \n",
       "3                                                  0      \n",
       "4                                                  0      \n",
       "\n",
       "   android.permission.READ_SMS  android.permission.PROCESS_INCOMING_CALLS  \\\n",
       "0                            0                                          0   \n",
       "1                            0                                          0   \n",
       "2                            0                                          0   \n",
       "3                            0                                          0   \n",
       "4                            0                                          0   \n",
       "\n",
       "   Result  \n",
       "0       0  \n",
       "1       0  \n",
       "2       0  \n",
       "3       0  \n",
       "4       0  \n",
       "\n",
       "[5 rows x 87 columns]"
      ]
     },
     "execution_count": 3,
     "metadata": {},
     "output_type": "execute_result"
    }
   ],
   "source": [
    "# Read in the app-data.csv file into a Pandas DataFrame.\n",
    "file_path = \"https://static.bc-edx.com/mbc/ai/m4/datasets/app-data.csv\"\n",
    "app_data = pd.read_csv(file_path)\n",
    "\n",
    "# Review the DataFrame\n",
    "app_data.head()"
   ]
  },
  {
   "cell_type": "code",
   "execution_count": 5,
   "metadata": {
    "ExecuteTime": {
     "end_time": "2023-10-22T22:38:12.607745Z",
     "start_time": "2023-10-22T22:38:12.604122Z"
    },
    "collapsed": false
   },
   "outputs": [
    {
     "data": {
      "text/plain": [
       "Index(['android.permission.GET_ACCOUNTS',\n",
       "       'com.sonyericsson.home.permission.BROADCAST_BADGE',\n",
       "       'android.permission.READ_PROFILE', 'android.permission.MANAGE_ACCOUNTS',\n",
       "       'android.permission.WRITE_SYNC_SETTINGS',\n",
       "       'android.permission.READ_EXTERNAL_STORAGE',\n",
       "       'android.permission.RECEIVE_SMS',\n",
       "       'com.android.launcher.permission.READ_SETTINGS',\n",
       "       'android.permission.WRITE_SETTINGS',\n",
       "       'com.google.android.providers.gsf.permission.READ_GSERVICES',\n",
       "       'android.permission.DOWNLOAD_WITHOUT_NOTIFICATION',\n",
       "       'android.permission.GET_TASKS',\n",
       "       'android.permission.WRITE_EXTERNAL_STORAGE',\n",
       "       'android.permission.RECORD_AUDIO',\n",
       "       'com.huawei.android.launcher.permission.CHANGE_BADGE',\n",
       "       'com.oppo.launcher.permission.READ_SETTINGS',\n",
       "       'android.permission.CHANGE_NETWORK_STATE',\n",
       "       'com.android.launcher.permission.INSTALL_SHORTCUT',\n",
       "       'android.permission.android.permission.READ_PHONE_STATE',\n",
       "       'android.permission.CALL_PHONE', 'android.permission.WRITE_CONTACTS',\n",
       "       'android.permission.READ_PHONE_STATE',\n",
       "       'com.samsung.android.providers.context.permission.WRITE_USE_APP_FEATURE_SURVEY',\n",
       "       'android.permission.MODIFY_AUDIO_SETTINGS',\n",
       "       'android.permission.ACCESS_LOCATION_EXTRA_COMMANDS',\n",
       "       'android.permission.INTERNET',\n",
       "       'android.permission.MOUNT_UNMOUNT_FILESYSTEMS',\n",
       "       'com.majeur.launcher.permission.UPDATE_BADGE',\n",
       "       'android.permission.AUTHENTICATE_ACCOUNTS',\n",
       "       'com.htc.launcher.permission.READ_SETTINGS',\n",
       "       'android.permission.ACCESS_WIFI_STATE', 'android.permission.FLASHLIGHT',\n",
       "       'android.permission.READ_APP_BADGE',\n",
       "       'android.permission.USE_CREDENTIALS',\n",
       "       'android.permission.CHANGE_CONFIGURATION',\n",
       "       'android.permission.READ_SYNC_SETTINGS',\n",
       "       'android.permission.BROADCAST_STICKY',\n",
       "       'com.anddoes.launcher.permission.UPDATE_COUNT',\n",
       "       'com.android.alarm.permission.SET_ALARM',\n",
       "       'com.google.android.c2dm.permission.RECEIVE',\n",
       "       'android.permission.KILL_BACKGROUND_PROCESSES',\n",
       "       'com.sonymobile.home.permission.PROVIDER_INSERT_BADGE',\n",
       "       'com.sec.android.provider.badge.permission.READ',\n",
       "       'android.permission.WRITE_CALENDAR', 'android.permission.SEND_SMS',\n",
       "       'com.huawei.android.launcher.permission.WRITE_SETTINGS',\n",
       "       'android.permission.REQUEST_INSTALL_PACKAGES',\n",
       "       'android.permission.SET_WALLPAPER_HINTS',\n",
       "       'android.permission.SET_WALLPAPER',\n",
       "       'com.oppo.launcher.permission.WRITE_SETTINGS',\n",
       "       'android.permission.RESTART_PACKAGES',\n",
       "       'me.everything.badger.permission.BADGE_COUNT_WRITE',\n",
       "       'android.permission.ACCESS_MOCK_LOCATION',\n",
       "       'android.permission.ACCESS_COARSE_LOCATION',\n",
       "       'android.permission.READ_LOGS',\n",
       "       'com.google.android.gms.permission.ACTIVITY_RECOGNITION',\n",
       "       'com.amazon.device.messaging.permission.RECEIVE',\n",
       "       'android.permission.SYSTEM_ALERT_WINDOW',\n",
       "       'android.permission.DISABLE_KEYGUARD',\n",
       "       'android.permission.USE_FINGERPRINT',\n",
       "       'me.everything.badger.permission.BADGE_COUNT_READ',\n",
       "       'android.permission.CHANGE_WIFI_STATE',\n",
       "       'android.permission.READ_CONTACTS', 'com.android.vending.BILLING',\n",
       "       'android.permission.READ_CALENDAR',\n",
       "       'android.permission.RECEIVE_BOOT_COMPLETED',\n",
       "       'android.permission.WAKE_LOCK',\n",
       "       'android.permission.ACCESS_FINE_LOCATION',\n",
       "       'android.permission.BLUETOOTH', 'android.permission.CAMERA',\n",
       "       'com.android.vending.CHECK_LICENSE',\n",
       "       'android.permission.FOREGROUND_SERVICE',\n",
       "       'android.permission.BLUETOOTH_ADMIN', 'android.permission.VIBRATE',\n",
       "       'android.permission.NFC', 'android.permission.RECEIVE_USER_PRESENT',\n",
       "       'android.permission.CLEAR_APP_CACHE',\n",
       "       'com.android.launcher.permission.UNINSTALL_SHORTCUT',\n",
       "       'com.sec.android.iap.permission.BILLING',\n",
       "       'com.htc.launcher.permission.UPDATE_SHORTCUT',\n",
       "       'com.sec.android.provider.badge.permission.WRITE',\n",
       "       'android.permission.ACCESS_NETWORK_STATE',\n",
       "       'com.google.android.finsky.permission.BIND_GET_INSTALL_REFERRER_SERVICE',\n",
       "       'com.huawei.android.launcher.permission.READ_SETTINGS',\n",
       "       'android.permission.READ_SMS',\n",
       "       'android.permission.PROCESS_INCOMING_CALLS', 'Result'],\n",
       "      dtype='object')"
      ]
     },
     "execution_count": 5,
     "metadata": {},
     "output_type": "execute_result"
    }
   ],
   "source": [
    "app_data.columns"
   ]
  },
  {
   "cell_type": "code",
   "execution_count": 6,
   "metadata": {
    "ExecuteTime": {
     "end_time": "2023-10-22T22:38:44.345690Z",
     "start_time": "2023-10-22T22:38:44.341732Z"
    }
   },
   "outputs": [
    {
     "data": {
      "text/plain": [
       "1    14700\n",
       "0    14632\n",
       "Name: Result, dtype: int64"
      ]
     },
     "execution_count": 6,
     "metadata": {},
     "output_type": "execute_result"
    }
   ],
   "source": [
    "# The column 'Result' is the thing you want to predict. \n",
    "# Class 0 indicates a benign app and class 1 indicates a malware app\n",
    "# Using value_counts, how many malware apps are in this dataset?\n",
    "app_data['Result'].value_counts()"
   ]
  },
  {
   "cell_type": "markdown",
   "metadata": {},
   "source": [
    "## Split the data into training and testing sets"
   ]
  },
  {
   "cell_type": "code",
   "execution_count": 7,
   "metadata": {
    "ExecuteTime": {
     "end_time": "2023-10-22T23:40:39.071876Z",
     "start_time": "2023-10-22T23:40:39.061327Z"
    }
   },
   "outputs": [],
   "source": [
    "# The target column `y` should be the binary `Result` column.\n",
    "y = app_data['Result']\n",
    "\n",
    "# The `X` should be all of the features. \n",
    "X = app_data.copy()\n",
    "X = X.drop(columns='Result')"
   ]
  },
  {
   "cell_type": "code",
   "execution_count": 8,
   "metadata": {
    "ExecuteTime": {
     "end_time": "2023-10-22T23:40:40.736836Z",
     "start_time": "2023-10-22T23:40:40.715777Z"
    }
   },
   "outputs": [],
   "source": [
    "# Split the dataset using the train_test_split function\n",
    "X_train, X_test, y_train, y_test = train_test_split(X, y)"
   ]
  },
  {
   "cell_type": "markdown",
   "metadata": {},
   "source": [
    "## Model and Fit the Data to a Logistic Regression"
   ]
  },
  {
   "cell_type": "code",
   "execution_count": 9,
   "metadata": {
    "ExecuteTime": {
     "end_time": "2023-10-22T23:41:58.437019Z",
     "start_time": "2023-10-22T23:41:58.435368Z"
    }
   },
   "outputs": [],
   "source": [
    "# Declare a logistic regression model.\n",
    "# Apply a random_state of 7 and max_iter of 120 to the model\n",
    "logistic_regression_model = LogisticRegression(max_iter=120, random_state=7)"
   ]
  },
  {
   "cell_type": "code",
   "execution_count": 10,
   "metadata": {
    "ExecuteTime": {
     "end_time": "2023-10-22T23:42:02.052004Z",
     "start_time": "2023-10-22T23:42:01.771839Z"
    }
   },
   "outputs": [
    {
     "data": {
      "text/html": [
       "<style>#sk-container-id-1 {color: black;background-color: white;}#sk-container-id-1 pre{padding: 0;}#sk-container-id-1 div.sk-toggleable {background-color: white;}#sk-container-id-1 label.sk-toggleable__label {cursor: pointer;display: block;width: 100%;margin-bottom: 0;padding: 0.3em;box-sizing: border-box;text-align: center;}#sk-container-id-1 label.sk-toggleable__label-arrow:before {content: \"▸\";float: left;margin-right: 0.25em;color: #696969;}#sk-container-id-1 label.sk-toggleable__label-arrow:hover:before {color: black;}#sk-container-id-1 div.sk-estimator:hover label.sk-toggleable__label-arrow:before {color: black;}#sk-container-id-1 div.sk-toggleable__content {max-height: 0;max-width: 0;overflow: hidden;text-align: left;background-color: #f0f8ff;}#sk-container-id-1 div.sk-toggleable__content pre {margin: 0.2em;color: black;border-radius: 0.25em;background-color: #f0f8ff;}#sk-container-id-1 input.sk-toggleable__control:checked~div.sk-toggleable__content {max-height: 200px;max-width: 100%;overflow: auto;}#sk-container-id-1 input.sk-toggleable__control:checked~label.sk-toggleable__label-arrow:before {content: \"▾\";}#sk-container-id-1 div.sk-estimator input.sk-toggleable__control:checked~label.sk-toggleable__label {background-color: #d4ebff;}#sk-container-id-1 div.sk-label input.sk-toggleable__control:checked~label.sk-toggleable__label {background-color: #d4ebff;}#sk-container-id-1 input.sk-hidden--visually {border: 0;clip: rect(1px 1px 1px 1px);clip: rect(1px, 1px, 1px, 1px);height: 1px;margin: -1px;overflow: hidden;padding: 0;position: absolute;width: 1px;}#sk-container-id-1 div.sk-estimator {font-family: monospace;background-color: #f0f8ff;border: 1px dotted black;border-radius: 0.25em;box-sizing: border-box;margin-bottom: 0.5em;}#sk-container-id-1 div.sk-estimator:hover {background-color: #d4ebff;}#sk-container-id-1 div.sk-parallel-item::after {content: \"\";width: 100%;border-bottom: 1px solid gray;flex-grow: 1;}#sk-container-id-1 div.sk-label:hover label.sk-toggleable__label {background-color: #d4ebff;}#sk-container-id-1 div.sk-serial::before {content: \"\";position: absolute;border-left: 1px solid gray;box-sizing: border-box;top: 0;bottom: 0;left: 50%;z-index: 0;}#sk-container-id-1 div.sk-serial {display: flex;flex-direction: column;align-items: center;background-color: white;padding-right: 0.2em;padding-left: 0.2em;position: relative;}#sk-container-id-1 div.sk-item {position: relative;z-index: 1;}#sk-container-id-1 div.sk-parallel {display: flex;align-items: stretch;justify-content: center;background-color: white;position: relative;}#sk-container-id-1 div.sk-item::before, #sk-container-id-1 div.sk-parallel-item::before {content: \"\";position: absolute;border-left: 1px solid gray;box-sizing: border-box;top: 0;bottom: 0;left: 50%;z-index: -1;}#sk-container-id-1 div.sk-parallel-item {display: flex;flex-direction: column;z-index: 1;position: relative;background-color: white;}#sk-container-id-1 div.sk-parallel-item:first-child::after {align-self: flex-end;width: 50%;}#sk-container-id-1 div.sk-parallel-item:last-child::after {align-self: flex-start;width: 50%;}#sk-container-id-1 div.sk-parallel-item:only-child::after {width: 0;}#sk-container-id-1 div.sk-dashed-wrapped {border: 1px dashed gray;margin: 0 0.4em 0.5em 0.4em;box-sizing: border-box;padding-bottom: 0.4em;background-color: white;}#sk-container-id-1 div.sk-label label {font-family: monospace;font-weight: bold;display: inline-block;line-height: 1.2em;}#sk-container-id-1 div.sk-label-container {text-align: center;}#sk-container-id-1 div.sk-container {/* jupyter's `normalize.less` sets `[hidden] { display: none; }` but bootstrap.min.css set `[hidden] { display: none !important; }` so we also need the `!important` here to be able to override the default hidden behavior on the sphinx rendered scikit-learn.org. See: https://github.com/scikit-learn/scikit-learn/issues/21755 */display: inline-block !important;position: relative;}#sk-container-id-1 div.sk-text-repr-fallback {display: none;}</style><div id=\"sk-container-id-1\" class=\"sk-top-container\"><div class=\"sk-text-repr-fallback\"><pre>LogisticRegression(max_iter=120, random_state=7)</pre><b>In a Jupyter environment, please rerun this cell to show the HTML representation or trust the notebook. <br />On GitHub, the HTML representation is unable to render, please try loading this page with nbviewer.org.</b></div><div class=\"sk-container\" hidden><div class=\"sk-item\"><div class=\"sk-estimator sk-toggleable\"><input class=\"sk-toggleable__control sk-hidden--visually\" id=\"sk-estimator-id-1\" type=\"checkbox\" checked><label for=\"sk-estimator-id-1\" class=\"sk-toggleable__label sk-toggleable__label-arrow\">LogisticRegression</label><div class=\"sk-toggleable__content\"><pre>LogisticRegression(max_iter=120, random_state=7)</pre></div></div></div></div></div>"
      ],
      "text/plain": [
       "LogisticRegression(max_iter=120, random_state=7)"
      ]
     },
     "execution_count": 10,
     "metadata": {},
     "output_type": "execute_result"
    }
   ],
   "source": [
    "# Fit and save the logistic regression model using the training data\n",
    "logistic_regression_model.fit(X_train, y_train)"
   ]
  },
  {
   "cell_type": "code",
   "execution_count": 11,
   "metadata": {
    "ExecuteTime": {
     "end_time": "2023-10-22T23:42:52.060963Z",
     "start_time": "2023-10-22T23:42:52.005045Z"
    }
   },
   "outputs": [
    {
     "name": "stdout",
     "output_type": "stream",
     "text": [
      "Training Data Score: 0.9594981590072276\n",
      "Testing Data Score: 0.9609982271921451\n"
     ]
    }
   ],
   "source": [
    "# Validate the model\n",
    "print(f\"Training Data Score: {logistic_regression_model.score(X_train, y_train)}\")\n",
    "print(f\"Testing Data Score: {logistic_regression_model.score(X_test, y_test)}\")"
   ]
  },
  {
   "cell_type": "markdown",
   "metadata": {},
   "source": [
    "## Predict the Testing Labels"
   ]
  },
  {
   "cell_type": "code",
   "execution_count": 12,
   "metadata": {
    "ExecuteTime": {
     "end_time": "2023-10-22T23:46:10.727294Z",
     "start_time": "2023-10-22T23:46:10.676016Z"
    }
   },
   "outputs": [
    {
     "data": {
      "text/plain": [
       "array([1, 1, 1, ..., 1, 1, 1])"
      ]
     },
     "execution_count": 12,
     "metadata": {},
     "output_type": "execute_result"
    }
   ],
   "source": [
    "# Make and save testing predictions with the saved logistic regression model using the test data\n",
    "predictions = logistic_regression_model.predict(X_test)\n",
    "\n",
    "# Review the predictions\n",
    "predictions"
   ]
  },
  {
   "cell_type": "markdown",
   "metadata": {},
   "source": [
    "## Calculate the Performance Metrics"
   ]
  },
  {
   "cell_type": "code",
   "execution_count": 14,
   "metadata": {
    "ExecuteTime": {
     "end_time": "2023-10-22T23:47:31.956488Z",
     "start_time": "2023-10-22T23:47:31.952667Z"
    }
   },
   "outputs": [
    {
     "data": {
      "text/plain": [
       "0.9609982271921451"
      ]
     },
     "execution_count": 14,
     "metadata": {},
     "output_type": "execute_result"
    }
   ],
   "source": [
    "# Display the accuracy score for the test dataset.\n",
    "# Import the accuracy_score function\n",
    "from sklearn.metrics import accuracy_score\n",
    "\n",
    "# Calculate the model's accuracy on the test dataset\n",
    "accuracy_score(y_test, predictions)\n"
   ]
  },
  {
   "cell_type": "markdown",
   "metadata": {},
   "source": [
    "**Question:** For this dataset, how well did the model predict actual malware?\n",
    "\n",
    "**Answer:** "
   ]
  },
  {
   "cell_type": "code",
   "execution_count": 16,
   "metadata": {
    "ExecuteTime": {
     "end_time": "2023-10-22T23:47:57.280519Z",
     "start_time": "2023-10-22T23:47:57.278624Z"
    }
   },
   "outputs": [],
   "source": [
    "#96%"
   ]
  },
  {
   "cell_type": "code",
   "execution_count": null,
   "metadata": {
    "collapsed": false
   },
   "outputs": [],
   "source": []
  }
 ],
 "metadata": {
  "kernelspec": {
   "display_name": "Python 3 (ipykernel)",
   "language": "python",
   "name": "python3"
  },
  "language_info": {
   "codemirror_mode": {
    "name": "ipython",
    "version": 3
   },
   "file_extension": ".py",
   "mimetype": "text/x-python",
   "name": "python",
   "nbconvert_exporter": "python",
   "pygments_lexer": "ipython3",
   "version": "3.10.10"
  }
 },
 "nbformat": 4,
 "nbformat_minor": 4
}
