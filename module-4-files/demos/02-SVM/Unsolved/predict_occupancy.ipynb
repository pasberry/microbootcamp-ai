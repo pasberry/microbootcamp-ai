{
 "cells": [
  {
   "cell_type": "markdown",
   "metadata": {},
   "source": [
    "# Dataset:  occupancy.csv\n",
    "\n",
    "Source: Accurate occupancy detection of an office room from light, temperature, humidity and CO2 measurements using statistical learning models. Luis M. Candanedo, VÃ©ronique Feldheim. Energy and Buildings. Volume 112, 15 January 2016, Pages 28-39.\n",
    "\n",
    "Description: Experimental data used for binary classification (room occupancy) from Temperature,Humidity,Light and CO2. Ground-truth occupancy was obtained from time stamped pictures that were taken every minute.\n",
    "\n",
    "Variables/Columns\n",
    "\n",
    "- Temperature, in Celsius\n",
    "- Relative Humidity %\n",
    "- Light in Lux\n",
    "- CO2 in ppm\n",
    "- Humidity Ratio, Derived quantity from temperature and relative humidity, in kgwater-vapor/kg-air\n",
    "- Occupancy 0 or 1 \n",
    "    - 0 for not occupied\n",
    "    - 1 for occupied "
   ]
  },
  {
   "cell_type": "code",
   "execution_count": 1,
   "metadata": {
    "ExecuteTime": {
     "end_time": "2023-10-24T00:28:10.045656Z",
     "start_time": "2023-10-24T00:28:09.267443Z"
    }
   },
   "outputs": [],
   "source": [
    "# Import required dependencies\n",
    "import pandas as pd\n",
    "from sklearn.model_selection import train_test_split\n",
    "from sklearn.metrics import accuracy_score\n",
    "from sklearn.svm import SVC "
   ]
  },
  {
   "cell_type": "code",
   "execution_count": 2,
   "metadata": {
    "ExecuteTime": {
     "end_time": "2023-10-24T00:28:11.743527Z",
     "start_time": "2023-10-24T00:28:10.787953Z"
    }
   },
   "outputs": [
    {
     "data": {
      "text/plain": "   Temperature  Humidity  Light     CO2  HumidityRatio  Occupancy\n0        23.18   27.2720  426.0  721.25       0.004793          1\n1        23.15   27.2675  429.5  714.00       0.004783          1\n2        23.15   27.2450  426.0  713.50       0.004779          1\n3        23.15   27.2000  426.0  708.25       0.004772          1\n4        23.10   27.2000  426.0  704.50       0.004757          1",
      "text/html": "<div>\n<style scoped>\n    .dataframe tbody tr th:only-of-type {\n        vertical-align: middle;\n    }\n\n    .dataframe tbody tr th {\n        vertical-align: top;\n    }\n\n    .dataframe thead th {\n        text-align: right;\n    }\n</style>\n<table border=\"1\" class=\"dataframe\">\n  <thead>\n    <tr style=\"text-align: right;\">\n      <th></th>\n      <th>Temperature</th>\n      <th>Humidity</th>\n      <th>Light</th>\n      <th>CO2</th>\n      <th>HumidityRatio</th>\n      <th>Occupancy</th>\n    </tr>\n  </thead>\n  <tbody>\n    <tr>\n      <th>0</th>\n      <td>23.18</td>\n      <td>27.2720</td>\n      <td>426.0</td>\n      <td>721.25</td>\n      <td>0.004793</td>\n      <td>1</td>\n    </tr>\n    <tr>\n      <th>1</th>\n      <td>23.15</td>\n      <td>27.2675</td>\n      <td>429.5</td>\n      <td>714.00</td>\n      <td>0.004783</td>\n      <td>1</td>\n    </tr>\n    <tr>\n      <th>2</th>\n      <td>23.15</td>\n      <td>27.2450</td>\n      <td>426.0</td>\n      <td>713.50</td>\n      <td>0.004779</td>\n      <td>1</td>\n    </tr>\n    <tr>\n      <th>3</th>\n      <td>23.15</td>\n      <td>27.2000</td>\n      <td>426.0</td>\n      <td>708.25</td>\n      <td>0.004772</td>\n      <td>1</td>\n    </tr>\n    <tr>\n      <th>4</th>\n      <td>23.10</td>\n      <td>27.2000</td>\n      <td>426.0</td>\n      <td>704.50</td>\n      <td>0.004757</td>\n      <td>1</td>\n    </tr>\n  </tbody>\n</table>\n</div>"
     },
     "execution_count": 2,
     "metadata": {},
     "output_type": "execute_result"
    }
   ],
   "source": [
    "# Import data\n",
    "file_path = \"https://static.bc-edx.com/mbc/ai/m4/datasets/occupancy.csv\"\n",
    "df = pd.read_csv(file_path)\n",
    "df.head()"
   ]
  },
  {
   "cell_type": "markdown",
   "metadata": {},
   "source": [
    "## Split the data into training and testing sets"
   ]
  },
  {
   "cell_type": "code",
   "execution_count": 3,
   "metadata": {
    "ExecuteTime": {
     "end_time": "2023-10-24T00:29:05.379385Z",
     "start_time": "2023-10-24T00:29:05.375523Z"
    }
   },
   "outputs": [
    {
     "data": {
      "text/plain": "0       1\n1       1\n2       1\n3       1\n4       1\n       ..\n8138    1\n8139    1\n8140    1\n8141    1\n8142    1\nName: Occupancy, Length: 8143, dtype: int64"
     },
     "execution_count": 3,
     "metadata": {},
     "output_type": "execute_result"
    }
   ],
   "source": [
    "# Get the target variable (the \"Occupancy\" column)\n",
    "y = df['Occupancy']\n",
    "y"
   ]
  },
  {
   "cell_type": "code",
   "execution_count": 4,
   "metadata": {
    "ExecuteTime": {
     "end_time": "2023-10-24T00:29:35.081580Z",
     "start_time": "2023-10-24T00:29:35.078474Z"
    }
   },
   "outputs": [
    {
     "data": {
      "text/plain": "      Temperature  Humidity  Light         CO2  HumidityRatio\n0           23.18   27.2720  426.0  721.250000       0.004793\n1           23.15   27.2675  429.5  714.000000       0.004783\n2           23.15   27.2450  426.0  713.500000       0.004779\n3           23.15   27.2000  426.0  708.250000       0.004772\n4           23.10   27.2000  426.0  704.500000       0.004757\n...           ...       ...    ...         ...            ...\n8138        21.05   36.0975  433.0  787.250000       0.005579\n8139        21.05   35.9950  433.0  789.500000       0.005563\n8140        21.10   36.0950  433.0  798.500000       0.005596\n8141        21.10   36.2600  433.0  820.333333       0.005621\n8142        21.10   36.2000  447.0  821.000000       0.005612\n\n[8143 rows x 5 columns]",
      "text/html": "<div>\n<style scoped>\n    .dataframe tbody tr th:only-of-type {\n        vertical-align: middle;\n    }\n\n    .dataframe tbody tr th {\n        vertical-align: top;\n    }\n\n    .dataframe thead th {\n        text-align: right;\n    }\n</style>\n<table border=\"1\" class=\"dataframe\">\n  <thead>\n    <tr style=\"text-align: right;\">\n      <th></th>\n      <th>Temperature</th>\n      <th>Humidity</th>\n      <th>Light</th>\n      <th>CO2</th>\n      <th>HumidityRatio</th>\n    </tr>\n  </thead>\n  <tbody>\n    <tr>\n      <th>0</th>\n      <td>23.18</td>\n      <td>27.2720</td>\n      <td>426.0</td>\n      <td>721.250000</td>\n      <td>0.004793</td>\n    </tr>\n    <tr>\n      <th>1</th>\n      <td>23.15</td>\n      <td>27.2675</td>\n      <td>429.5</td>\n      <td>714.000000</td>\n      <td>0.004783</td>\n    </tr>\n    <tr>\n      <th>2</th>\n      <td>23.15</td>\n      <td>27.2450</td>\n      <td>426.0</td>\n      <td>713.500000</td>\n      <td>0.004779</td>\n    </tr>\n    <tr>\n      <th>3</th>\n      <td>23.15</td>\n      <td>27.2000</td>\n      <td>426.0</td>\n      <td>708.250000</td>\n      <td>0.004772</td>\n    </tr>\n    <tr>\n      <th>4</th>\n      <td>23.10</td>\n      <td>27.2000</td>\n      <td>426.0</td>\n      <td>704.500000</td>\n      <td>0.004757</td>\n    </tr>\n    <tr>\n      <th>...</th>\n      <td>...</td>\n      <td>...</td>\n      <td>...</td>\n      <td>...</td>\n      <td>...</td>\n    </tr>\n    <tr>\n      <th>8138</th>\n      <td>21.05</td>\n      <td>36.0975</td>\n      <td>433.0</td>\n      <td>787.250000</td>\n      <td>0.005579</td>\n    </tr>\n    <tr>\n      <th>8139</th>\n      <td>21.05</td>\n      <td>35.9950</td>\n      <td>433.0</td>\n      <td>789.500000</td>\n      <td>0.005563</td>\n    </tr>\n    <tr>\n      <th>8140</th>\n      <td>21.10</td>\n      <td>36.0950</td>\n      <td>433.0</td>\n      <td>798.500000</td>\n      <td>0.005596</td>\n    </tr>\n    <tr>\n      <th>8141</th>\n      <td>21.10</td>\n      <td>36.2600</td>\n      <td>433.0</td>\n      <td>820.333333</td>\n      <td>0.005621</td>\n    </tr>\n    <tr>\n      <th>8142</th>\n      <td>21.10</td>\n      <td>36.2000</td>\n      <td>447.0</td>\n      <td>821.000000</td>\n      <td>0.005612</td>\n    </tr>\n  </tbody>\n</table>\n<p>8143 rows × 5 columns</p>\n</div>"
     },
     "execution_count": 4,
     "metadata": {},
     "output_type": "execute_result"
    }
   ],
   "source": [
    "# Get the features (everything except the \"Occupancy\" column)\n",
    "X = df.drop(columns=\"Occupancy\")\n",
    "X"
   ]
  },
  {
   "cell_type": "code",
   "execution_count": 5,
   "metadata": {
    "ExecuteTime": {
     "end_time": "2023-10-24T01:19:34.765238Z",
     "start_time": "2023-10-24T01:19:34.756787Z"
    }
   },
   "outputs": [],
   "source": [
    "# Split data into training and testing sets\n",
    "X_train, X_test, y_train, y_test = train_test_split(X, y)"
   ]
  },
  {
   "cell_type": "markdown",
   "metadata": {},
   "source": [
    "## Model and Fit to a Support Vector Machine"
   ]
  },
  {
   "cell_type": "code",
   "execution_count": 6,
   "metadata": {
    "ExecuteTime": {
     "end_time": "2023-10-24T01:22:50.688788Z",
     "start_time": "2023-10-24T01:22:50.684901Z"
    }
   },
   "outputs": [],
   "source": [
    "# Create the support vector machine classifier model with a 'linear' kernel\n",
    "from sklearn.svm import SVC\n",
    "svm_classification_model = SVC(kernel='linear')"
   ]
  },
  {
   "cell_type": "code",
   "execution_count": 7,
   "metadata": {
    "ExecuteTime": {
     "end_time": "2023-10-24T01:23:17.438498Z",
     "start_time": "2023-10-24T01:23:11.835288Z"
    }
   },
   "outputs": [
    {
     "data": {
      "text/plain": "SVC(kernel='linear')",
      "text/html": "<style>#sk-container-id-1 {color: black;background-color: white;}#sk-container-id-1 pre{padding: 0;}#sk-container-id-1 div.sk-toggleable {background-color: white;}#sk-container-id-1 label.sk-toggleable__label {cursor: pointer;display: block;width: 100%;margin-bottom: 0;padding: 0.3em;box-sizing: border-box;text-align: center;}#sk-container-id-1 label.sk-toggleable__label-arrow:before {content: \"▸\";float: left;margin-right: 0.25em;color: #696969;}#sk-container-id-1 label.sk-toggleable__label-arrow:hover:before {color: black;}#sk-container-id-1 div.sk-estimator:hover label.sk-toggleable__label-arrow:before {color: black;}#sk-container-id-1 div.sk-toggleable__content {max-height: 0;max-width: 0;overflow: hidden;text-align: left;background-color: #f0f8ff;}#sk-container-id-1 div.sk-toggleable__content pre {margin: 0.2em;color: black;border-radius: 0.25em;background-color: #f0f8ff;}#sk-container-id-1 input.sk-toggleable__control:checked~div.sk-toggleable__content {max-height: 200px;max-width: 100%;overflow: auto;}#sk-container-id-1 input.sk-toggleable__control:checked~label.sk-toggleable__label-arrow:before {content: \"▾\";}#sk-container-id-1 div.sk-estimator input.sk-toggleable__control:checked~label.sk-toggleable__label {background-color: #d4ebff;}#sk-container-id-1 div.sk-label input.sk-toggleable__control:checked~label.sk-toggleable__label {background-color: #d4ebff;}#sk-container-id-1 input.sk-hidden--visually {border: 0;clip: rect(1px 1px 1px 1px);clip: rect(1px, 1px, 1px, 1px);height: 1px;margin: -1px;overflow: hidden;padding: 0;position: absolute;width: 1px;}#sk-container-id-1 div.sk-estimator {font-family: monospace;background-color: #f0f8ff;border: 1px dotted black;border-radius: 0.25em;box-sizing: border-box;margin-bottom: 0.5em;}#sk-container-id-1 div.sk-estimator:hover {background-color: #d4ebff;}#sk-container-id-1 div.sk-parallel-item::after {content: \"\";width: 100%;border-bottom: 1px solid gray;flex-grow: 1;}#sk-container-id-1 div.sk-label:hover label.sk-toggleable__label {background-color: #d4ebff;}#sk-container-id-1 div.sk-serial::before {content: \"\";position: absolute;border-left: 1px solid gray;box-sizing: border-box;top: 0;bottom: 0;left: 50%;z-index: 0;}#sk-container-id-1 div.sk-serial {display: flex;flex-direction: column;align-items: center;background-color: white;padding-right: 0.2em;padding-left: 0.2em;position: relative;}#sk-container-id-1 div.sk-item {position: relative;z-index: 1;}#sk-container-id-1 div.sk-parallel {display: flex;align-items: stretch;justify-content: center;background-color: white;position: relative;}#sk-container-id-1 div.sk-item::before, #sk-container-id-1 div.sk-parallel-item::before {content: \"\";position: absolute;border-left: 1px solid gray;box-sizing: border-box;top: 0;bottom: 0;left: 50%;z-index: -1;}#sk-container-id-1 div.sk-parallel-item {display: flex;flex-direction: column;z-index: 1;position: relative;background-color: white;}#sk-container-id-1 div.sk-parallel-item:first-child::after {align-self: flex-end;width: 50%;}#sk-container-id-1 div.sk-parallel-item:last-child::after {align-self: flex-start;width: 50%;}#sk-container-id-1 div.sk-parallel-item:only-child::after {width: 0;}#sk-container-id-1 div.sk-dashed-wrapped {border: 1px dashed gray;margin: 0 0.4em 0.5em 0.4em;box-sizing: border-box;padding-bottom: 0.4em;background-color: white;}#sk-container-id-1 div.sk-label label {font-family: monospace;font-weight: bold;display: inline-block;line-height: 1.2em;}#sk-container-id-1 div.sk-label-container {text-align: center;}#sk-container-id-1 div.sk-container {/* jupyter's `normalize.less` sets `[hidden] { display: none; }` but bootstrap.min.css set `[hidden] { display: none !important; }` so we also need the `!important` here to be able to override the default hidden behavior on the sphinx rendered scikit-learn.org. See: https://github.com/scikit-learn/scikit-learn/issues/21755 */display: inline-block !important;position: relative;}#sk-container-id-1 div.sk-text-repr-fallback {display: none;}</style><div id=\"sk-container-id-1\" class=\"sk-top-container\"><div class=\"sk-text-repr-fallback\"><pre>SVC(kernel=&#x27;linear&#x27;)</pre><b>In a Jupyter environment, please rerun this cell to show the HTML representation or trust the notebook. <br />On GitHub, the HTML representation is unable to render, please try loading this page with nbviewer.org.</b></div><div class=\"sk-container\" hidden><div class=\"sk-item\"><div class=\"sk-estimator sk-toggleable\"><input class=\"sk-toggleable__control sk-hidden--visually\" id=\"sk-estimator-id-1\" type=\"checkbox\" checked><label for=\"sk-estimator-id-1\" class=\"sk-toggleable__label sk-toggleable__label-arrow\">SVC</label><div class=\"sk-toggleable__content\"><pre>SVC(kernel=&#x27;linear&#x27;)</pre></div></div></div></div></div>"
     },
     "execution_count": 7,
     "metadata": {},
     "output_type": "execute_result"
    }
   ],
   "source": [
    "# Fit the model to the training data\n",
    "\n",
    "svm_classification_model.fit(X_train, y_train)\n"
   ]
  },
  {
   "cell_type": "code",
   "execution_count": 8,
   "metadata": {
    "ExecuteTime": {
     "end_time": "2023-10-24T01:25:04.857595Z",
     "start_time": "2023-10-24T01:25:04.822301Z"
    }
   },
   "outputs": [
    {
     "name": "stdout",
     "output_type": "stream",
     "text": [
      "Train Accuracy: 0.9865727853283117\n",
      "Test Accuracy: 0.9847740667976425\n"
     ]
    }
   ],
   "source": [
    "# Validate the model by checking the model accuracy with model.score\n",
    "print(f\"Train Accuracy: {svm_classification_model.score(X_train, y_train)}\")\n",
    "print(f\"Test Accuracy: {svm_classification_model.score(X_test, y_test)}\")"
   ]
  },
  {
   "cell_type": "markdown",
   "metadata": {},
   "source": [
    "## Predict the Testing Labels"
   ]
  },
  {
   "cell_type": "code",
   "execution_count": 9,
   "metadata": {
    "ExecuteTime": {
     "end_time": "2023-10-24T01:25:43.945620Z",
     "start_time": "2023-10-24T01:25:43.929485Z"
    }
   },
   "outputs": [
    {
     "data": {
      "text/plain": "array([1, 0, 0, ..., 1, 0, 1])"
     },
     "execution_count": 9,
     "metadata": {},
     "output_type": "execute_result"
    }
   ],
   "source": [
    "# Make and save testing predictions with the saved SVM model using the testing data\n",
    "y_prediction = svm_classification_model.predict(X_test)\n",
    "\n",
    "# Review the predictions\n",
    "y_prediction"
   ]
  },
  {
   "cell_type": "markdown",
   "metadata": {},
   "source": [
    "## Evaluate the Model"
   ]
  },
  {
   "cell_type": "code",
   "execution_count": 10,
   "metadata": {
    "ExecuteTime": {
     "end_time": "2023-10-24T01:26:19.563986Z",
     "start_time": "2023-10-24T01:26:19.559570Z"
    }
   },
   "outputs": [
    {
     "data": {
      "text/plain": "0.9847740667976425"
     },
     "execution_count": 10,
     "metadata": {},
     "output_type": "execute_result"
    }
   ],
   "source": [
    "# Display the accuracy score for the testing dataset\n",
    "from sklearn.metrics import accuracy_score\n",
    "accuracy_score(y_test, y_prediction)"
   ]
  },
  {
   "cell_type": "code",
   "execution_count": null,
   "metadata": {},
   "outputs": [],
   "source": []
  }
 ],
 "metadata": {
  "kernelspec": {
   "display_name": "Python 3 (ipykernel)",
   "language": "python",
   "name": "python3"
  },
  "language_info": {
   "codemirror_mode": {
    "name": "ipython",
    "version": 3
   },
   "file_extension": ".py",
   "mimetype": "text/x-python",
   "name": "python",
   "nbconvert_exporter": "python",
   "pygments_lexer": "ipython3",
   "version": "3.10.10"
  },
  "varInspector": {
   "cols": {
    "lenName": 16,
    "lenType": 16,
    "lenVar": 40
   },
   "kernels_config": {
    "python": {
     "delete_cmd_postfix": "",
     "delete_cmd_prefix": "del ",
     "library": "var_list.py",
     "varRefreshCmd": "print(var_dic_list())"
    },
    "r": {
     "delete_cmd_postfix": ") ",
     "delete_cmd_prefix": "rm(",
     "library": "var_list.r",
     "varRefreshCmd": "cat(var_dic_list()) "
    }
   },
   "types_to_exclude": [
    "module",
    "function",
    "builtin_function_or_method",
    "instance",
    "_Feature"
   ],
   "window_display": false
  }
 },
 "nbformat": 4,
 "nbformat_minor": 2
}
